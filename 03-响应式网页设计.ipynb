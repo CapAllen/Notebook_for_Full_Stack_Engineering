{
 "cells": [
  {
   "cell_type": "markdown",
   "metadata": {},
   "source": [
    "响应式网页设计（Responsive Web Design, RWD）是一种将网页可以适应多种尺寸屏幕的技术手段。"
   ]
  },
  {
   "cell_type": "markdown",
   "metadata": {},
   "source": [
    "在设置响应式网页时，我们可以通过Chrome自带的模拟器去测试不同设备的显示情况，只需要按`F12`调出开发者模式，然后再点击`手机图标`即可。"
   ]
  },
  {
   "cell_type": "markdown",
   "metadata": {},
   "source": [
    "设计原则是：**从小设备到大设备**，优先设计手机等小设备的界面，这样的话，我们可以保证将用户最想看到的元素进行展示，然后再逐渐拓展，添加优先级较低的元素。"
   ]
  },
  {
   "cell_type": "markdown",
   "metadata": {},
   "source": [
    "## 像素（pixel）与视窗（viewport）"
   ]
  },
  {
   "cell_type": "markdown",
   "metadata": {},
   "source": [
    "我们通常说的手机像素为`960px*320px`，为**硬件像素**；\n",
    "\n",
    "但，硬件像素并不等于css像素或者设备独立像素（Device Independent Pixels, dips），二者之间的比值为**设备像素比（Device Pixel Ratio, dpr）**。\n",
    "\n",
    "如，dpr=2，手机像素宽度为320px，那么css像素为`320/2=160px`。"
   ]
  },
  {
   "cell_type": "markdown",
   "metadata": {},
   "source": [
    "如上求得的css像素即为设备最大视窗宽度，视窗即网页的可视化区域。"
   ]
  },
  {
   "cell_type": "markdown",
   "metadata": {},
   "source": [
    "在`head`中添加如下代码，即可设置视窗：\n",
    "\n",
    "```html\n",
    "<meta name=\"viewport\" content=\"width=device-width,initial-scale=1\">\n",
    "```\n",
    "\n",
    "其中，`initial-scale`表示初始化缩放比例，一般设置为1，即浏览器相对象素与css像素之比为1:1。\n"
   ]
  },
  {
   "cell_type": "markdown",
   "metadata": {},
   "source": [
    "## 相对而非绝对"
   ]
  },
  {
   "cell_type": "markdown",
   "metadata": {},
   "source": [
    "当元素尺寸过大时，使用视窗并不能解决溢出问题，这时候就需要设置“宽度”了：\n",
    "使用相对定位，而非绝对定位，比如把宽度设置为100%：\n",
    "\n",
    "```css\n",
    "img,embed,video,object {\n",
    "    max-width: 100%;\n",
    "}\n",
    "```"
   ]
  },
  {
   "cell_type": "markdown",
   "metadata": {},
   "source": [
    "## 点击目标的尺寸\n"
   ]
  },
  {
   "cell_type": "markdown",
   "metadata": {},
   "source": [
    "人手指的宽度差不多是40px（css像素），所以，在设置按钮时，应该保证宽度至少为`48px*48px`，或者保证不同按钮之间的距离不小于`40px`，以方便人在移动设备上去点击。\n",
    "\n",
    "```css\n",
    "button {\n",
    "    min-width: 48px;\n",
    "    min-height: 48px;\n",
    "}\n",
    "```"
   ]
  },
  {
   "cell_type": "markdown",
   "metadata": {},
   "source": [
    "## 实战练习"
   ]
  },
  {
   "cell_type": "markdown",
   "metadata": {},
   "source": [
    "综合运用前面所学知识，将`Challenge02-RWD\\Exercise`中的网页修改为响应式网页。\n",
    "<img src=\"https://s3.ax1x.com/2020/11/30/DREEon.md.png\" alt=\"DREEon.png\" border=\"0\" />"
   ]
  },
  {
   "cell_type": "markdown",
   "metadata": {},
   "source": [
    "## 媒体筛选（Media Query）"
   ]
  },
  {
   "cell_type": "markdown",
   "metadata": {},
   "source": [
    "### 添加基础的媒体筛选\n",
    "\n",
    "```html\n",
    "<link rel=\"stylesheet\" media=\"screen and (min-width:500px)\" href=\"over500.css\">\n",
    "```\n",
    "\n",
    "如上的HTML代码中，我们就可以将屏幕宽度大于500px时的css设置为`over500.css`文件。\n",
    "\n",
    "当然，我们还可以直接在css文件中进行设置：\n",
    "\n",
    "```css\n",
    "@media screen and (min-width:500px) {\n",
    "    body {\n",
    "        color: red;\n",
    "    }\n",
    "}\n",
    "```\n"
   ]
  },
  {
   "cell_type": "markdown",
   "metadata": {},
   "source": [
    "最常用的筛选条件为：\n",
    "- `max-width`是在视窗小于某个像素值时生效；\n",
    "- `min-width`是大于某个像素值时生效。"
   ]
  },
  {
   "cell_type": "markdown",
   "metadata": {},
   "source": [
    "### 断点（Break Point）"
   ]
  },
  {
   "cell_type": "markdown",
   "metadata": {},
   "source": [
    "达到筛选条件，而进行css样式更改的位置，被称作**断点**。\n",
    "\n",
    "但是设备在不断更新，那么该如何设置断点呢？答案是：**依据你的内容**。"
   ]
  },
  {
   "cell_type": "markdown",
   "metadata": {},
   "source": [
    "你可以使用chrome配合开发者工具，进行调试选择：\n",
    "- 打开开发者工具，这样在修改网页大小时，就会显示当前的像素值；\n",
    "- 先将网页调整值最小，然后逐渐拉大；\n",
    "- 记录断点的像素值，构思断点对应的css样式。"
   ]
  }
 ],
 "metadata": {
  "kernelspec": {
   "display_name": "Python 3",
   "language": "python",
   "name": "python3"
  },
  "language_info": {
   "codemirror_mode": {
    "name": "ipython",
    "version": 3
   },
   "file_extension": ".py",
   "mimetype": "text/x-python",
   "name": "python",
   "nbconvert_exporter": "python",
   "pygments_lexer": "ipython3",
   "version": "3.6.8"
  },
  "toc": {
   "base_numbering": 1,
   "nav_menu": {},
   "number_sections": true,
   "sideBar": true,
   "skip_h1_title": false,
   "title_cell": "Table of Contents",
   "title_sidebar": "Contents",
   "toc_cell": false,
   "toc_position": {
    "height": "calc(100% - 180px)",
    "left": "10px",
    "top": "150px",
    "width": "165px"
   },
   "toc_section_display": true,
   "toc_window_display": true
  }
 },
 "nbformat": 4,
 "nbformat_minor": 2
}
