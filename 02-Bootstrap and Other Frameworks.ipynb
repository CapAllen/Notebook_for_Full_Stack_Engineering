{
 "cells": [
  {
   "cell_type": "markdown",
   "metadata": {},
   "source": [
    "# Bootstrap"
   ]
  },
  {
   "cell_type": "markdown",
   "metadata": {},
   "source": [
    "访问Bootstrap网站，下载框架中的css与js文件后，会发现有同名的两种，即：\n",
    "- 'xxxx.css'\n",
    "- 'xxxx.min.css'\n",
    "\n",
    "其中，后者删除了文件中的所有空格，所以更小，用户访问网页时更快。所以二者的关系：\n",
    "- 'xxx.css'文档格式更易于编辑\n",
    "- 'xxx.min.css'适合上传到网页中使用\n",
    "\n",
    "我们可以使用[CSS代码压缩](https://www.sojson.com/css.html)手动将css文件转为`.min.css`。"
   ]
  },
  {
   "cell_type": "markdown",
   "metadata": {},
   "source": [
    "更多功能可以直接搜索Booststrap的文档即可。"
   ]
  },
  {
   "cell_type": "markdown",
   "metadata": {},
   "source": [
    "# 配合使用自己的css文件"
   ]
  },
  {
   "cell_type": "markdown",
   "metadata": {},
   "source": [
    "在使用Boostrap等框架之外，我们还需要自己编写css文件，补充框架的不足。\n",
    "\n",
    "- 编写css的顺序，也是按照范围从大到小的顺序去做;\n",
    "- 在引入新添加的css文件时，需要放到Boostrap文件后面，以防样式被覆盖。"
   ]
  }
 ],
 "metadata": {
  "kernelspec": {
   "display_name": "Python 3",
   "language": "python",
   "name": "python3"
  },
  "language_info": {
   "codemirror_mode": {
    "name": "ipython",
    "version": 3
   },
   "file_extension": ".py",
   "mimetype": "text/x-python",
   "name": "python",
   "nbconvert_exporter": "python",
   "pygments_lexer": "ipython3",
   "version": "3.6.8"
  },
  "toc": {
   "base_numbering": 1,
   "nav_menu": {},
   "number_sections": true,
   "sideBar": true,
   "skip_h1_title": false,
   "title_cell": "Table of Contents",
   "title_sidebar": "Contents",
   "toc_cell": false,
   "toc_position": {},
   "toc_section_display": true,
   "toc_window_display": false
  }
 },
 "nbformat": 4,
 "nbformat_minor": 2
}
