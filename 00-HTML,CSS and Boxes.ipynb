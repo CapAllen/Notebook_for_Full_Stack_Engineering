{
 "cells": [
  {
   "cell_type": "markdown",
   "metadata": {},
   "source": [
    "# 导语\n",
    "\n",
    "我们先了解网页的一些基础知识，如果把我们浏览的网页比作房子的话，那么：\n",
    "- HTML语言则是构成房子的墙体结构，划分客厅、卧室等等；\n",
    "- CSS则是房屋的装修风格，比如涂料的颜色、挂什么画等；\n",
    "- JavaScript则是交互组件，可以比作为电视遥控等，它会改变房屋内的某些元素。\n",
    "\n",
    "房屋搭建与设计的过程中，需要遵守一定的规则，比如，我们不可能把电视悬空放置。同理，网站也有自己的运行规则，OK，那么我们就来先学习一些*规则*吧~\n",
    "\n"
   ]
  },
  {
   "cell_type": "markdown",
   "metadata": {},
   "source": [
    "# 网页设计流程"
   ]
  },
  {
   "cell_type": "markdown",
   "metadata": {},
   "source": [
    "检查网页代码，观察HTML语言的：\n",
    "- 树形结构（DOM树，Document Object Model）\n",
    "- 标签（tag）\n",
    "- 所有对象均为矩形（box）"
   ]
  },
  {
   "cell_type": "markdown",
   "metadata": {},
   "source": [
    "在设计网页时，也可以通过绘制由大到小，由外而内的不同的box来提供思路。\n",
    "![DrZpJe.png](https://s3.ax1x.com/2020/11/27/DrZpJe.png)\n",
    "\n",
    "转换为：\n",
    "![DrZJoT.png](https://s3.ax1x.com/2020/11/27/DrZJoT.png)\n",
    "\n",
    "在添加上对应的CSS：\n",
    "![DrnyT0.png](https://s3.ax1x.com/2020/11/27/DrnyT0.png)\n",
    "\n",
    "然后，再添加上对应的html表头，head与body部分，添加上外部引用的css文件：\n",
    "![DrQMNt.png](https://s3.ax1x.com/2020/11/27/DrQMNt.png)\n",
    "\n",
    "\n",
    "再编辑对应的CSS，设置style即可。"
   ]
  },
  {
   "cell_type": "markdown",
   "metadata": {},
   "source": [
    "# HTML语法"
   ]
  },
  {
   "cell_type": "markdown",
   "metadata": {},
   "source": [
    "如下是一段html代码：\n",
    "```html\n",
    "<div>\n",
    "    <h1> Title </h1>\n",
    "    <p> This is a paragraph. </p>\n",
    "</div>\n",
    "```\n",
    "\n",
    "可以看到，html代码是按照树结构进行组织的：\n",
    "- 最外层（父节点）为`div`\n",
    "- 内层（子节点）为`h1`与`p`\n",
    "- 子节点会继承父节点的样式\n",
    "\n",
    "此外：\n",
    "- `div`等叫做标签tag，由`<tag>content</tag>`组成的语句叫做元素（element）。"
   ]
  },
  {
   "cell_type": "markdown",
   "metadata": {},
   "source": [
    "在HTML中，有很多tag，不同的tag有着不同的功能，这是一个非常有用的HTML工具书链接：[HTML elements reference](https://developer.mozilla.org/en-US/docs/Web/HTML/Element)，可以帮助你搜索不同的tag及功能。"
   ]
  },
  {
   "cell_type": "markdown",
   "metadata": {},
   "source": [
    "# CSS语法"
   ]
  },
  {
   "cell_type": "markdown",
   "metadata": {},
   "source": [
    "CSS，即Cascading Style Sheets，层叠样式表，是一种标记语言，用来描述网页中各个元素的外观。"
   ]
  },
  {
   "cell_type": "markdown",
   "metadata": {},
   "source": [
    "在HTML中引入CSS文件\n",
    "```HTML\n",
    "<link rel=\"stylesheet\" type=\"text/css\" href=\"css_file_location/css_filename.css\">\n",
    "```"
   ]
  },
  {
   "cell_type": "markdown",
   "metadata": {},
   "source": [
    "CSS代码是由如下的规则集（rulesets）构成的：\n",
    "```css\n",
    "div {\n",
    "    text-align: center;\n",
    "}\n",
    "```\n",
    "\n",
    "其中：\n",
    "- `div`为选择器selector，选择想要设置样式的元素\n",
    "- `{}`内的即声明块declaration block，设置具体样式"
   ]
  },
  {
   "cell_type": "markdown",
   "metadata": {},
   "source": [
    "除了使用tag进行元素选择之外，我们还可以使用元素的**属性（attribute）**进行选择：\n",
    "- `id`，如`<p id=\"first_paragraph\">`，但同一元素只能有一个id，且id在整个HTML文件中应该是唯一的；\n",
    "- `class`，如`<p class=\"main content\">`，相比id，class更灵活，同一元素可以设置多个class（用空格隔开），且同一class可以用在多个元素中。\n",
    "\n",
    "其对应的CSS代码为：\n",
    "```css\n",
    "/* class */\n",
    ".class_name {\n",
    "    color: blue;\n",
    "}\n",
    "/* id */\n",
    "#id_name {\n",
    "    color: red;\n",
    "}\n",
    "```"
   ]
  },
  {
   "cell_type": "markdown",
   "metadata": {},
   "source": [
    "CSS同样有非常多的设置样式，如下两个网站可以当作工具书去搜索：\n",
    "- [CSS reference](https://developer.mozilla.org/en-US/docs/Web/CSS/Reference)\n",
    "- [CSS Tricks](https://css-tricks.com/almanac/)"
   ]
  },
  {
   "cell_type": "markdown",
   "metadata": {},
   "source": [
    "## CSS单位"
   ]
  },
  {
   "cell_type": "markdown",
   "metadata": {},
   "source": [
    "在很多样式中，你会发现都有如width,height等设置，这就需要给数值加一个单位，在CSS中可以将单位分成两类：\n",
    "- 绝对单位：常用的是像素（px），如\n",
    "    ```css\n",
    "    .sidebar {\n",
    "        width: 400px;\n",
    "    }\n",
    "    ```\n",
    "\n",
    "- 相对单位：常用的是百分比（%），相对单位经常用于响应式网页设计（后面的课程会学习）中，如\n",
    "    ```css\n",
    "    .sidebar {\n",
    "        width: 100%;\n",
    "    }\n",
    "    ```\n",
    "    \n",
    "    **注意：相对单位永远是以最近一级的父节点为参考。**"
   ]
  },
  {
   "cell_type": "markdown",
   "metadata": {},
   "source": [
    "# Box模型"
   ]
  },
  {
   "cell_type": "markdown",
   "metadata": {},
   "source": [
    "前面也提到了，网页中由众多box构成，Box Model为如下形式：\n",
    "<img src=\"https://s3.ax1x.com/2020/12/01/Dfsfuq.md.png\" alt=\"Dfsfuq.png\" border=\"0\" />"
   ]
  },
  {
   "cell_type": "markdown",
   "metadata": {},
   "source": [
    "对于盒模型，有不同的尺寸计算方式，这取决于CSS中的这个属性：\n",
    "```css\n",
    "* {\n",
    "/*     默认值为content-box */\n",
    "    box-sizing: content-box;\n",
    "}\n",
    "```\n",
    "\n",
    "在默认模式下，设置的width等尺寸，只会计算content，所以，整个盒模型占据的空间就是 width+padding+margin。"
   ]
  },
  {
   "cell_type": "markdown",
   "metadata": {},
   "source": [
    "```css\n",
    "* {\n",
    "    box-sizing: border-box;\n",
    "}\n",
    "```\n",
    "\n",
    "在`border-box`模式下，设置的width等尺寸，会将整个盒模型考虑进去，所以，这时候content所占的空间就是 width-padding-margin。"
   ]
  },
  {
   "cell_type": "markdown",
   "metadata": {},
   "source": [
    "## 三种模型"
   ]
  },
  {
   "cell_type": "markdown",
   "metadata": {},
   "source": [
    "- Block：使用`<div>`标签，在block模型中，盒模型的长宽是根据设定的width等参数的；\n",
    "- Inline：使用`<span>`标签，盒模型的长宽是根据内容的长度自动设定的。"
   ]
  },
  {
   "cell_type": "markdown",
   "metadata": {},
   "source": [
    "特别的，如果在CSS中设置：\n",
    "```css\n",
    ".example {\n",
    "    display: inline-block;\n",
    "}\n",
    "```\n",
    "的话，该元素则可以在行内显示（跟inline一致），但是在长宽设置上跟block一致。"
   ]
  },
  {
   "cell_type": "markdown",
   "metadata": {},
   "source": [
    "# Position 位置"
   ]
  },
  {
   "cell_type": "markdown",
   "metadata": {},
   "source": [
    "## 默认Static"
   ]
  },
  {
   "cell_type": "markdown",
   "metadata": {},
   "source": [
    "另一个比较关键的属性就是元素所在的位置，在CSS中，可以通过如下代码去设置：、\n",
    "```css\n",
    "{\n",
    "    position: static;\n",
    "}\n",
    "```\n",
    "\n",
    "在`static`模式中，Block会垂直方向堆叠，Inline会水平方向堆叠。如下图所示：\n",
    "<img src=\"https://s3.ax1x.com/2020/12/01/DfobTJ.md.png\" alt=\"DfobTJ.png\" border=\"0\" />"
   ]
  },
  {
   "cell_type": "markdown",
   "metadata": {},
   "source": [
    "## 相对位置relative"
   ]
  },
  {
   "cell_type": "markdown",
   "metadata": {},
   "source": [
    "```css\n",
    "{\n",
    "    position: relative;\n",
    "}\n",
    "```\n",
    "使用`relative`，可以实现在布置好box位置后，通过设置`top`、`bottom`、`left`、`right`进行相对偏移，如：\n",
    "> 这里的相对偏移，是以`static`位置为参考\n",
    "\n",
    "```css\n",
    "{\n",
    "    position: relative;\n",
    "    top: 10px;\n",
    "    left: 10px;\n",
    "}\n",
    "```\n",
    "\n",
    "<img src=\"https://s3.ax1x.com/2020/12/01/DfHoOf.png\" alt=\"DfHoOf.png\" border=\"0\" />"
   ]
  },
  {
   "cell_type": "markdown",
   "metadata": {},
   "source": [
    "## 绝对位置absolute与固定位置fixed"
   ]
  },
  {
   "cell_type": "markdown",
   "metadata": {},
   "source": [
    "在讲解这两个位置之前，先了解一下**Document**与**Viewport**的区别：\n",
    "- Document：整个HTML网页；\n",
    "- Viewport：视窗部分。\n",
    "\n",
    "二者的关系，如下图所示：\n",
    "<img src=\"https://s3.ax1x.com/2020/12/01/DfLz6I.md.png\" alt=\"DfLz6I.png\" border=\"0\" />"
   ]
  },
  {
   "cell_type": "markdown",
   "metadata": {},
   "source": [
    "```css\n",
    "{\n",
    "    position: fixed;\n",
    "    top: 10px;\n",
    "    left: 10px;\n",
    "}\n",
    "```\n",
    "\n",
    "使用`fixed`，可以通过设置`top`、`bottom`、`left`、`right`，实现元素固定在**Viewport**的某个位置，这样在上下滚动网页时，该元素将会一直显示在页面上，这有很多应用场景，比如：『回到顶部』，『顶部导航栏』等等。\n",
    "> 这里的相对偏移，是以`Viewport`的边框为参考"
   ]
  },
  {
   "cell_type": "markdown",
   "metadata": {},
   "source": [
    "```css\n",
    "{\n",
    "    position: absolute;\n",
    "    top: 10px;\n",
    "    left: 10px;\n",
    "}\n",
    "```\n",
    "\n",
    "使用`absolute`，可以通过设置`top`、`bottom`、`left`、`right`，实现元素相对于**父节点**的某个位置，这种应用场景较少。\n",
    "> 这里的相对偏移，是以`父节点`的位置为参考"
   ]
  },
  {
   "cell_type": "markdown",
   "metadata": {},
   "source": [
    "此外，还有一种**Transform**的属性，可以实现旋转、缩放等功能，可以戳这个链接了解：[css-transform](https://developer.mozilla.org/en-US/docs/Web/CSS/transform)"
   ]
  },
  {
   "cell_type": "markdown",
   "metadata": {},
   "source": [
    "## 3D？z-index设置"
   ]
  },
  {
   "cell_type": "markdown",
   "metadata": {},
   "source": [
    "除了设置x与y轴之外，还可以通过在css中设置`z-index`来调整元素在z轴上的顺序，如下图所示：\n",
    "<img src=\"https://s3.ax1x.com/2020/12/01/DfbT3R.md.png\" alt=\"DfbT3R.png\" border=\"0\" />"
   ]
  },
  {
   "cell_type": "markdown",
   "metadata": {},
   "source": [
    "其中`z-index`越大，则越靠上。"
   ]
  },
  {
   "cell_type": "markdown",
   "metadata": {},
   "source": [
    "## 文本位置"
   ]
  },
  {
   "cell_type": "markdown",
   "metadata": {},
   "source": [
    "在学习文本位置之前，先了解文本显示的三条线：\n",
    "![DhSaDA.md.png](https://s3.ax1x.com/2020/12/01/DhSaDA.md.png)\n",
    "\n",
    "> 虽然不同字体可能略有不同，但概念是一致的。"
   ]
  },
  {
   "cell_type": "markdown",
   "metadata": {},
   "source": [
    "有两种文本位置属性：\n",
    "- 水平方向：`text-align`\n",
    "    - 可以通过属性`direction`设置文本方向：\n",
    "        - `ltr`即left to right，从左到右，这是默认值；\n",
    "        - `rtl`即right to left\n",
    "    - 默认值为`start`即默认左对齐；\n",
    "    - 可以设置为`left`，`right`，`center`分别对应左对齐，右对齐及居中对齐。\n"
   ]
  },
  {
   "cell_type": "markdown",
   "metadata": {},
   "source": [
    "- 垂直方向：`vertical-align`\n",
    "    - 默认情况下，文本会显示在父节点的baseline上\n",
    "    - 设置垂直位置时有两种思路：\n",
    "        - 通过设置文本在父节点的位置：\n",
    "            - `text-top`，`text-bottom`，`middle`分别对应文本显示在父节点的顶部、底部与中部\n",
    "        - 通过设置元素对齐线\n",
    "            - `top`，`bottom`分别对应将元素对齐线设置为上图中的text-top与text-bottom"
   ]
  }
 ],
 "metadata": {
  "kernelspec": {
   "display_name": "Python 3",
   "language": "python",
   "name": "python3"
  },
  "language_info": {
   "codemirror_mode": {
    "name": "ipython",
    "version": 3
   },
   "file_extension": ".py",
   "mimetype": "text/x-python",
   "name": "python",
   "nbconvert_exporter": "python",
   "pygments_lexer": "ipython3",
   "version": "3.6.8"
  },
  "toc": {
   "base_numbering": 1,
   "nav_menu": {},
   "number_sections": true,
   "sideBar": true,
   "skip_h1_title": false,
   "title_cell": "Table of Contents",
   "title_sidebar": "Contents",
   "toc_cell": false,
   "toc_position": {
    "height": "calc(100% - 180px)",
    "left": "10px",
    "top": "150px",
    "width": "165px"
   },
   "toc_section_display": true,
   "toc_window_display": true
  }
 },
 "nbformat": 4,
 "nbformat_minor": 2
}
