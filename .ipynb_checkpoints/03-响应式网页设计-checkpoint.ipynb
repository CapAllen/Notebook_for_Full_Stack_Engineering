{
 "cells": [
  {
   "cell_type": "markdown",
   "metadata": {},
   "source": [
    "响应式网页设计（Responsive Web Design, RWD）是一种将网页可以适应多种尺寸屏幕的技术手段。"
   ]
  },
  {
   "cell_type": "markdown",
   "metadata": {},
   "source": [
    "在设置响应式网页时，我们可以通过Chrome自带的模拟器去测试不同设备的显示情况，只需要按`F12`调出开发者模式，然后再点击`手机图标`即可。"
   ]
  },
  {
   "cell_type": "markdown",
   "metadata": {},
   "source": [
    "设计原则是：**从小设备到大设备**，优先设计手机等小设备的界面，这样的话，我们可以保证将用户最想看到的元素进行展示，然后再逐渐拓展，添加优先级较低的元素。"
   ]
  },
  {
   "cell_type": "markdown",
   "metadata": {},
   "source": [
    "## 像素（pixel）与视窗（viewport）"
   ]
  },
  {
   "cell_type": "markdown",
   "metadata": {},
   "source": [
    "我们通常说的手机像素为`960px*320px`，为**硬件像素**；\n",
    "\n",
    "但，硬件像素并不等于css像素或者设备独立像素（Device Independent Pixels, dips），二者之间的比值为**设备像素比（Device Pixel Ratio, dpr）**。\n",
    "\n",
    "如，dpr=2，手机像素宽度为320px，那么css像素为`320/2=160px`。"
   ]
  },
  {
   "cell_type": "markdown",
   "metadata": {},
   "source": [
    "如上求得的css像素即为设备最大视窗宽度，视窗即网页的可视化区域。"
   ]
  },
  {
   "cell_type": "markdown",
   "metadata": {},
   "source": [
    "在`head`中添加如下代码，即可设置视窗：\n",
    "\n",
    "```html\n",
    "<meta name=\"viewport\" content=\"width=device-width,initial-scale=1\">\n",
    "```\n",
    "\n",
    "其中，`initial-scale`表示初始化缩放比例，一般设置为1，即浏览器相对象素与css像素之比为1:1。\n"
   ]
  },
  {
   "cell_type": "markdown",
   "metadata": {},
   "source": [
    "## 相对而非绝对"
   ]
  },
  {
   "cell_type": "markdown",
   "metadata": {},
   "source": [
    "当元素尺寸过大时，使用视窗并不能解决溢出问题，这时候就需要设置“宽度”了：\n",
    "使用相对定位，而非绝对定位，比如把宽度设置为100%：\n",
    "\n",
    "```css\n",
    "img,embed,video,object {\n",
    "    max-width: 100%;\n",
    "}\n",
    "```"
   ]
  },
  {
   "cell_type": "markdown",
   "metadata": {},
   "source": [
    "## 点击目标的尺寸\n"
   ]
  },
  {
   "cell_type": "markdown",
   "metadata": {},
   "source": [
    "人手指的宽度差不多是40px（css像素），所以，在设置按钮时，应该保证宽度至少为`48px*48px`，或者保证不同按钮之间的距离不小于`40px`，以方便人在移动设备上去点击。\n",
    "\n",
    "```css\n",
    "button {\n",
    "    min-width: 48px;\n",
    "    min-height: 48px;\n",
    "}\n",
    "```"
   ]
  },
  {
   "cell_type": "markdown",
   "metadata": {},
   "source": [
    "## 实战练习"
   ]
  },
  {
   "cell_type": "markdown",
   "metadata": {},
   "source": [
    "综合运用前面所学知识，将`Challenge02-RWD\\Exercise`中的网页修改为响应式网页。\n",
    "<img src=\"https://s3.ax1x.com/2020/11/30/DREEon.md.png\" alt=\"DREEon.png\" border=\"0\" />"
   ]
  },
  {
   "cell_type": "markdown",
   "metadata": {},
   "source": [
    "## 媒体筛选（Media Query）"
   ]
  },
  {
   "cell_type": "markdown",
   "metadata": {},
   "source": [
    "### 添加基础的媒体筛选\n",
    "\n",
    "```html\n",
    "<link rel=\"stylesheet\" media=\"screen and (min-width:500px)\" href=\"over500.css\">\n",
    "```\n",
    "\n",
    "如上的HTML代码中，我们就可以将屏幕宽度大于500px时的css设置为`over500.css`文件。\n",
    "\n",
    "当然，我们还可以直接在css文件中进行设置：\n",
    "\n",
    "```css\n",
    "@media screen and (min-width:500px) {\n",
    "    body {\n",
    "        color: red;\n",
    "    }\n",
    "}\n",
    "```\n"
   ]
  },
  {
   "cell_type": "markdown",
   "metadata": {},
   "source": [
    "最常用的筛选条件为：\n",
    "- `max-width`是在视窗小于某个像素值时生效；\n",
    "- `min-width`是大于某个像素值时生效。"
   ]
  },
  {
   "cell_type": "markdown",
   "metadata": {},
   "source": [
    "同样，也可以设置多条件的筛选，比如下图中：\n",
    "<img src=\"https://s3.ax1x.com/2020/11/30/DRUC40.png\" alt=\"DRUC40.png\" border=\"0\" />\n",
    "\n",
    "- A：\n",
    "```css\n",
    "@media screen and (max-width:400px) \n",
    "```\n",
    "\n",
    "- B：\n",
    "```css\n",
    "@media screen and (min-width:301px) and (max-width:600px) \n",
    "```\n",
    "\n",
    "- C：\n",
    "```css\n",
    "@media screen and (min-width:601px)\n",
    "```\n",
    "\n",
    "- D：\n",
    "```css\n",
    "@media screen and (min-width:961px) \n",
    "```"
   ]
  },
  {
   "cell_type": "markdown",
   "metadata": {},
   "source": [
    "### 断点（Break Point）"
   ]
  },
  {
   "cell_type": "markdown",
   "metadata": {},
   "source": [
    "达到筛选条件，而进行css样式更改的位置，被称作**断点**。\n",
    "\n",
    "但是设备在不断更新，那么该如何设置断点呢？答案是：**依据你的内容**。"
   ]
  },
  {
   "cell_type": "markdown",
   "metadata": {},
   "source": [
    "你可以使用chrome配合开发者工具，进行调试选择：\n",
    "- 打开开发者工具，这样在修改网页大小时，就会显示当前的像素值；\n",
    "- 先将网页调整值最小，然后逐渐拉大；\n",
    "- 记录断点的像素值，构思断点对应的css样式。"
   ]
  },
  {
   "cell_type": "markdown",
   "metadata": {},
   "source": [
    "## 动态网格系统"
   ]
  },
  {
   "cell_type": "markdown",
   "metadata": {},
   "source": [
    "这也是响应式网页设计的一种方法，在很多框架中已经内置实现了，比如Bootstrap等。"
   ]
  },
  {
   "cell_type": "markdown",
   "metadata": {},
   "source": [
    "我们可以使用如下代码实现：\n",
    "- 将内容放置在一行内，随着网页大小的变化，对内容进行横向压缩或拓展：\n",
    "```css\n",
    "display: flex;\n",
    "```\n",
    "\n",
    "- 当网页比较窄时，允许内容纵向排列，而不是压缩：\n",
    "```css\n",
    "display: flex;\n",
    "flex_wrap: wrap;\n",
    "```\n"
   ]
  },
  {
   "cell_type": "markdown",
   "metadata": {},
   "source": [
    "## 常见的响应模式"
   ]
  },
  {
   "cell_type": "markdown",
   "metadata": {},
   "source": [
    "有一些响应模式几乎在任何设备上都有不错的表现，比如：\n",
    "- Mostly Fluid 大体流动模型\n",
    "- Column Drop 掉落列\n",
    "- Layout Shifter 活动布局\n",
    "- Off Canvas 画布溢出"
   ]
  },
  {
   "cell_type": "markdown",
   "metadata": {},
   "source": [
    "### Column Drop"
   ]
  },
  {
   "cell_type": "markdown",
   "metadata": {},
   "source": [
    "- 当视窗最窄时，所有元素成一列；\n",
    "- 随着视窗逐步拓宽，元素逐渐排成一行。"
   ]
  },
  {
   "cell_type": "markdown",
   "metadata": {},
   "source": [
    "如下图所示：\n",
    "\n",
    "<img src=\"https://s3.ax1x.com/2020/11/30/DWZu0e.md.png\" alt=\"DWZu0e.png\" border=\"0\" />"
   ]
  },
  {
   "cell_type": "markdown",
   "metadata": {},
   "source": [
    "css代码可以如下所示：\n",
    "```css\n",
    ".container {\n",
    "    display: flex;\n",
    "    flex-wrap: wrap;\n",
    "}\n",
    "\n",
    ".box {\n",
    "    width: 100%;\n",
    "}\n",
    "\n",
    "@media screen and (min-width: 450px) {\n",
    "    .dark_blue {\n",
    "        width: 25%;\n",
    "    }\n",
    "    .light_blue {\n",
    "        width: 75%;\n",
    "    }\n",
    "}\n",
    "\n",
    "@media screen and (min-width: 500px) {\n",
    "    .dark_blue, .green {\n",
    "        width: 25%;\n",
    "    }\n",
    "    .light_blue {\n",
    "        width: 50%;\n",
    "    }\n",
    "}\n",
    "```"
   ]
  },
  {
   "cell_type": "markdown",
   "metadata": {},
   "source": [
    "### Mostly Fluid"
   ]
  },
  {
   "cell_type": "markdown",
   "metadata": {},
   "source": [
    "- 当视窗最窄时，所有元素排成一列；\n",
    "- 随着视窗拓展，元素将排成网格（grid）形式；\n",
    "- 当视窗宽度超过一定值时，则开始在两侧添加margin。"
   ]
  },
  {
   "cell_type": "markdown",
   "metadata": {},
   "source": [
    "如下图所示：\n",
    "<img src=\"https://s3.ax1x.com/2020/12/02/D5kro4.md.png\" alt=\"D5kro4.png\" border=\"0\" />"
   ]
  },
  {
   "cell_type": "markdown",
   "metadata": {},
   "source": [
    "css代码可以如下所示：\n",
    "```css\n",
    ".container {\n",
    "    display: flex;\n",
    "    flex-wrap: wrap;\n",
    "}\n",
    "\n",
    ".box {\n",
    "    width: 100%;\n",
    "}\n",
    "\n",
    "@media screen and (min-width: 450px) {\n",
    "    .light_blue, .green {\n",
    "        width: 50%;\n",
    "    }\n",
    "}\n",
    "\n",
    "@media screen and (min-width: 550px) {\n",
    "    .dark_blue, .light_blue {\n",
    "        width: 50%;\n",
    "    }\n",
    "    .green, .red, .orange {\n",
    "        width: 33.3333%;\n",
    "    }\n",
    "}\n",
    "\n",
    "@media screen and (min-width: 750px) {\n",
    "    .container {\n",
    "        width: 750px;\n",
    "        margin-left: auto;\n",
    "        margin-right: auto;\n",
    "    }\n",
    "```"
   ]
  },
  {
   "cell_type": "markdown",
   "metadata": {},
   "source": [
    "### Layout Shifter"
   ]
  },
  {
   "cell_type": "markdown",
   "metadata": {},
   "source": [
    "- 并不仅仅是改变排列方式，而且还可以改变排列顺序"
   ]
  },
  {
   "cell_type": "markdown",
   "metadata": {},
   "source": [
    "如下图所示：\n",
    "<img src=\"https://s3.ax1x.com/2020/12/02/D5AXC9.md.png\" alt=\"D5AXC9.png\" border=\"0\" />"
   ]
  },
  {
   "cell_type": "markdown",
   "metadata": {},
   "source": [
    "css代码可以如下所示：\n",
    "> 注意，这里将light_blue与green放到了container块中的container2中了。\n",
    "\n",
    "```css\n",
    ".container {\n",
    "    width: 100%;\n",
    "    display: flex;\n",
    "    flex-wrap: wrap;\n",
    "}\n",
    "\n",
    ".box {\n",
    "    width: 100%;\n",
    "}\n",
    "\n",
    "@media screen and (min-width: 500px) {\n",
    "    .dark_blue {\n",
    "        width: 50%;\n",
    "    }\n",
    "    #container2 {\n",
    "        width: 50%;\n",
    "    }\n",
    "}\n",
    "\n",
    "@media screen and (min-width: 600px) {\n",
    "    .dark_blue {\n",
    "        width: 25%;\n",
    "        order: 1;\n",
    "    }\n",
    "    #container2 {\n",
    "        width: 50%;\n",
    "/*         默认order为0 */\n",
    "    }\n",
    "    .red {\n",
    "        width: 25%;\n",
    "        order: -1;\n",
    "    }\n",
    "}\n",
    "\n",
    "```"
   ]
  },
  {
   "cell_type": "markdown",
   "metadata": {},
   "source": [
    "### Off Canvas"
   ]
  },
  {
   "cell_type": "markdown",
   "metadata": {},
   "source": [
    "- 四种里最复杂的一种\n",
    "- 在视窗较小时，将不常用的导航栏等进行隐藏；在视窗较大时，再进行展示。"
   ]
  },
  {
   "cell_type": "markdown",
   "metadata": {},
   "source": [
    "如下图所示：\n",
    "<img src=\"https://s3.ax1x.com/2020/12/02/D5nXCD.md.png\" alt=\"D5nXCD.png\" border=\"0\" />"
   ]
  },
  {
   "cell_type": "markdown",
   "metadata": {},
   "source": [
    "这里有一个示例：[Live Demo](http://udacity.github.io/RWDF-samples/Lesson4/patterns/off-canvas.html)"
   ]
  },
  {
   "cell_type": "markdown",
   "metadata": {},
   "source": [
    "- HTML代码：\n",
    "\n",
    "```html\n",
    "<nav id=\"drawer\" class=\"dark_blue\"></nav>\n",
    "\n",
    "<main class=\"light_blue\"></main>\n",
    "```"
   ]
  },
  {
   "cell_type": "markdown",
   "metadata": {},
   "source": [
    "- CSS代码：\n",
    "\n",
    "```css\n",
    "/* 为确保可以占据整个屏幕 */\n",
    "html, body, main {\n",
    "    height: 100%;\n",
    "    width: 100%;\n",
    "}\n",
    "\n",
    "/* 为nav设置画布溢出样式 */\n",
    "nav {\n",
    "    width: 300px;\n",
    "    height: 100%;\n",
    "    position: absolute;\n",
    "/*     向左移300像素，将nav隐藏 */\n",
    "    transform: translate(-300px,0);\n",
    "/*     添加transform的平滑动画 */\n",
    "    transition: transform 0.3s ease;\n",
    "}\n",
    "\n",
    "/* 设置nav打开 */\n",
    "nav.open {\n",
    "    transform: translate(0,0);\n",
    "}\n",
    "\n",
    "/* 设置600px为断点 */\n",
    "@media screen and (min-width: 600px) {\n",
    "    nav {\n",
    "        position: relative;\n",
    "        transform: translate(0,0);\n",
    "    }\n",
    "    body {\n",
    "        display: flex;\n",
    "        flex-flow: row nowrap;\n",
    "    }\n",
    "    main {\n",
    "/*         将main的宽度设置为自动，并可以自动占据余下的所有空间 */\n",
    "        width: auto;\n",
    "        flex-grow: 1;\n",
    "    }\n",
    "}\n",
    "```"
   ]
  },
  {
   "cell_type": "markdown",
   "metadata": {},
   "source": [
    "- JS代码，是为了点击按钮时可以显示nav：\n",
    "\n",
    "```javascript\n",
    "\n",
    "var menu = document.querySelector('#menu');\n",
    "var drawer = document.querySelector('#drawer');\n",
    "\n",
    "\n",
    "menu.addEventListener('click',function(e) {\n",
    "//     点击时，将class切换为open\n",
    "    drawer.classList.toggle('open');\n",
    "    e.stopPropagation();\n",
    "});\n",
    "```\n"
   ]
  }
 ],
 "metadata": {
  "kernelspec": {
   "display_name": "Python 3",
   "language": "python",
   "name": "python3"
  },
  "language_info": {
   "codemirror_mode": {
    "name": "ipython",
    "version": 3
   },
   "file_extension": ".py",
   "mimetype": "text/x-python",
   "name": "python",
   "nbconvert_exporter": "python",
   "pygments_lexer": "ipython3",
   "version": "3.6.8"
  },
  "toc": {
   "base_numbering": 1,
   "nav_menu": {},
   "number_sections": true,
   "sideBar": true,
   "skip_h1_title": false,
   "title_cell": "Table of Contents",
   "title_sidebar": "Contents",
   "toc_cell": false,
   "toc_position": {
    "height": "calc(100% - 180px)",
    "left": "10px",
    "top": "150px",
    "width": "165px"
   },
   "toc_section_display": true,
   "toc_window_display": true
  }
 },
 "nbformat": 4,
 "nbformat_minor": 2
}
