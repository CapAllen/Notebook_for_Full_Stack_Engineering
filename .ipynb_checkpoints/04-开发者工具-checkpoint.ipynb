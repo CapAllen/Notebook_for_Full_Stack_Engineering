{
 "cells": [
  {
   "cell_type": "markdown",
   "metadata": {},
   "source": [
    "在这一章节中，我们将学习了解在网站开发中，需要提前掌握的工具，分别为：\n",
    "- Shell\n",
    "- Git & Github\n",
    "- HTTP & Web Server"
   ]
  },
  {
   "cell_type": "markdown",
   "metadata": {},
   "source": [
    "# Shell"
   ]
  },
  {
   "cell_type": "markdown",
   "metadata": {},
   "source": [
    "因为web服务经常部署在linux服务器中，而Shell是通过命令行与机器交互的工具，所以我们有必要学习了解一下。\n",
    "\n",
    "目前最常用的是bash shell。"
   ]
  },
  {
   "cell_type": "markdown",
   "metadata": {},
   "source": [
    "常用命令：\n",
    "- `echo` 输出命令，类似于python中的`print`，如`echo 'Hello Linux'`\n",
    "- `ls` 即list，用于查看当前文件夹中的所有文件名\n",
    "    - `ls filefolder`可以查看当前路径下，子文件夹filefolder中的所有文件名\n",
    "    - `ls -l`即查看长（long）列表，也就是详细信息\n",
    "    - 使用`*`可以进行模糊匹配，如`ls -l Documents/*.pdf`即可查看Documents文件夹中所有pdf文件\n",
    "    \n",
    "- `cd` 即change direction，修改文件路径\n",
    "    - 返回上级菜单`cd ..`\n",
    "    - 返回上上级`cd ../..`\n",
    "    - **linux中用`~`表示我的主目录简称**，所以在任何路径下，使用`cd ~/foldername`即可进入主目录下的某个文件夹\n",
    "- `pwd` 即print working direction，输出当前的工作路径\n"
   ]
  },
  {
   "cell_type": "markdown",
   "metadata": {},
   "source": [
    "- `mkdir` 创建文件夹\n",
    "- `mv` 移动文件\n",
    "\n",
    "如上两者可以快速帮助我们进行文件分类归并，如将Documents下的所有pdf文件都移动到Pdf_files文件夹中：\n",
    "```shell\n",
    "mkdir Documents/Pdf_files\n",
    "mv Documents/*.pdf Documents/Pdf_files\n",
    "```"
   ]
  },
  {
   "cell_type": "markdown",
   "metadata": {},
   "source": [
    "- `rm`删除文件\n",
    "- `rmdir`删除文件夹  \n",
    "\n",
    "**注意：linux中，删除后没有回收站**"
   ]
  },
  {
   "cell_type": "markdown",
   "metadata": {},
   "source": [
    "- `curl`即 C URL，See URL，实现网页查看功能\n",
    "    - `curl -o google.html -L 'http://google.com'`即可将链接中的网页，保存到`google.html`文件中"
   ]
  },
  {
   "cell_type": "markdown",
   "metadata": {},
   "source": [
    "- `cat`用于查看文件，如`cat google.html`会输出文件的所有内容。但是，当文件非常大时，我们只能看到最后面的部分。\n",
    "- `less`可以查看文件的部分内容，如`less google.html`：\n",
    "    - 会显示文件最顶部的一部分内容\n",
    "    - 使用`空格键`或者`方向键下`来查看下面的部分\n",
    "    - 使用`b`或者`方向键上`来查看上面的部分\n",
    "    - 使用`/`搜索\n",
    "    - 使用`q`退出"
   ]
  },
  {
   "cell_type": "markdown",
   "metadata": {},
   "source": [
    "- `grep`即global search regular expression(RE) and print out the line，全面搜索正则表达式并把行打印出来，是强大的文本搜索工具：\n",
    "    - `grep metadata google.html`搜索在文件`google.html`中包含metadata的行，并输出\n",
    "- `|`是**linux管道工具**，用于承接不同的命令，比如：\n",
    "    - `grep metadata google.html | less` 就是搜索完成后，将结果输出到less中进行显示\n",
    "    - `curl -L 'https://tinyurl.com/zeyq9vc | grep fish | wc -l`即浏览网页，搜索单词fish，并用wc（word count）统计多少行（`-l`）"
   ]
  },
  {
   "cell_type": "markdown",
   "metadata": {},
   "source": [
    "更多可以查看：\n",
    "- [Bash Academy](https://guide.bash.academy/)"
   ]
  },
  {
   "cell_type": "markdown",
   "metadata": {},
   "source": [
    "# Git & GitHub"
   ]
  },
  {
   "cell_type": "code",
   "execution_count": null,
   "metadata": {},
   "outputs": [],
   "source": []
  },
  {
   "cell_type": "markdown",
   "metadata": {},
   "source": [
    "# HTTP & Web Server"
   ]
  },
  {
   "cell_type": "markdown",
   "metadata": {},
   "source": []
  }
 ],
 "metadata": {
  "kernelspec": {
   "display_name": "Python 3",
   "language": "python",
   "name": "python3"
  },
  "language_info": {
   "codemirror_mode": {
    "name": "ipython",
    "version": 3
   },
   "file_extension": ".py",
   "mimetype": "text/x-python",
   "name": "python",
   "nbconvert_exporter": "python",
   "pygments_lexer": "ipython3",
   "version": "3.6.8"
  },
  "toc": {
   "base_numbering": 1,
   "nav_menu": {},
   "number_sections": true,
   "sideBar": true,
   "skip_h1_title": false,
   "title_cell": "Table of Contents",
   "title_sidebar": "Contents",
   "toc_cell": false,
   "toc_position": {},
   "toc_section_display": true,
   "toc_window_display": false
  }
 },
 "nbformat": 4,
 "nbformat_minor": 2
}
