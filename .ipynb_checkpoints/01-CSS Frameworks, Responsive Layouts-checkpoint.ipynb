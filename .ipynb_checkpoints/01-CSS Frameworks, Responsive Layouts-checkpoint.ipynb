{
 "cells": [
  {
   "cell_type": "markdown",
   "metadata": {},
   "source": [
    "# 网站设计布局"
   ]
  },
  {
   "cell_type": "markdown",
   "metadata": {},
   "source": [
    "<img src=\"https://s3.ax1x.com/2020/11/27/DrYczq.md.png\" alt=\"DrYczq.png\" border=\"0\" width=\"400px\"/>"
   ]
  },
  {
   "cell_type": "markdown",
   "metadata": {},
   "source": [
    "人的眼睛浏览轨迹经常是，从上到下-从左到右，所以，很多报纸和网站的排版设计，均是按照如上图的方式进行。"
   ]
  },
  {
   "cell_type": "markdown",
   "metadata": {},
   "source": [
    "所以，这是有规律可循的，那么我们就可以提前编写CSS，以实现这样的样式，这叫做**框架（Framework）**。\n",
    "\n",
    "此外，还需要考虑网页在不同的屏幕分辨率上的显示情况，比如电脑与手机等，这就需要制作**响应式的网页（Responsive Web Pages）**"
   ]
  },
  {
   "cell_type": "markdown",
   "metadata": {},
   "source": [
    "## 实战"
   ]
  },
  {
   "cell_type": "markdown",
   "metadata": {},
   "source": [
    "创建如下图的文件夹&文件：\n",
    "![D2p02j.png](https://s3.ax1x.com/2020/11/30/D2p02j.png)\n",
    "\n",
    "- 使用单独的文件夹去组织CSS文件是十分必要的，因为我们可能有不止一个CSS文件\n",
    "- 这对于之后要学习的JavaScript文件同理"
   ]
  },
  {
   "attachments": {},
   "cell_type": "markdown",
   "metadata": {},
   "source": [
    "### 创建网页的Grid\n",
    "<img src=\"https://s3.ax1x.com/2020/11/30/D2PQGF.md.png\" alt=\"D2PQGF.png\" width=\"400\" />"
   ]
  },
  {
   "cell_type": "markdown",
   "metadata": {},
   "source": [
    "- 一般地，为了方便把整个网页分成2等份、3等份与4等份，我们会把网页拆分成12列，如上图所示。"
   ]
  },
  {
   "cell_type": "markdown",
   "metadata": {},
   "source": [
    "### 一些css技巧"
   ]
  },
  {
   "cell_type": "markdown",
   "metadata": {},
   "source": [
    "- 设置全局有效：比如字体等，想在全部元素中都生效，使用如下代码：\n",
    "\n",
    "```css\n",
    "* {\n",
    "    font-family: 'Indie Flower'\n",
    "}\n",
    "```"
   ]
  },
  {
   "cell_type": "markdown",
   "metadata": {},
   "source": [
    "\n",
    "- 空白空间（Negative Space），通过设置margin与padding，让文字之间保持距离，提升网页可读性。"
   ]
  },
  {
   "cell_type": "markdown",
   "metadata": {},
   "source": [
    "\n",
    "- display:flex 可以帮助将多个元素合并到一行显示；参考：[链接](https://developer.mozilla.org/en-US/docs/Web/CSS/flex)\n",
    "- flex-wrap:wrap 可以将元素涵盖到整个块中。参考：[链接](https://developer.mozilla.org/en-US/docs/Web/CSS/flex-wrap)\n",
    "- margin: 0 auto 可以将元素居中\n",
    "- overflow: auto 当把大量文字展示在一个较小的块中时，设置overflow可以避免文字溢出\n",
    "    "
   ]
  },
  {
   "cell_type": "markdown",
   "metadata": {},
   "source": [
    "- 设置网页自适应：当网页宽度（分辨率）改变时，网页可以做出相应的改变，以保证最佳的阅读体验  \n",
    "这里使用的是**媒体查询（Media Query）**，使用`@media`开头\n",
    "```css\n",
    "@media only screen and (max-width: 500px) {\n",
    "    p {\n",
    "        display:none;\n",
    "    }\n",
    "}\n",
    "```\n",
    "如上代码的逻辑为：当宽度小于500像素时，隐藏p对应的元素，且仅对所有屏幕有效，其中：\n",
    "    - `only`是为了兼容旧式浏览器\n",
    "    - `screen`表示媒体类型，即对所有的屏幕（电脑、pad等等）有效"
   ]
  },
  {
   "cell_type": "markdown",
   "metadata": {},
   "source": [
    "- 兼容所有浏览器：为了让网页在不同浏览器都能正常显示，只需要引入css resetting即可\n",
    "```html\n",
    "<head>\n",
    "    <link rel=\"stylesheet\" src=\"//normalize-css.googlecode.com/svn/trunk/normalize.css\">\n",
    "</head>\n",
    "```"
   ]
  },
  {
   "cell_type": "markdown",
   "metadata": {},
   "source": [
    "### 占位图\n",
    "\n",
    "在进行网页设计时，可能还没有获取到所需的图片，这时候就可以先使用占位图测试网页框架是否正确。\n",
    "\n",
    "如：\n",
    "```html\n",
    "<img src=\"https://place-hold.it/200x200\">\n",
    "```\n",
    "<img src=\"https://place-hold.it/200x200\">\n",
    "          \n",
    "参考链接：[PlaceHold](https://place-hold.it)"
   ]
  },
  {
   "cell_type": "markdown",
   "metadata": {},
   "source": [
    "### 字体\n",
    "\n",
    "使用如下链接中的服务，挑选网络字体。\n",
    "\n",
    "- [Google Fonts](http://googlefonts.cn)\n",
    "- 或者搜索关键字**web fonts**"
   ]
  }
 ],
 "metadata": {
  "kernelspec": {
   "display_name": "Python 3",
   "language": "python",
   "name": "python3"
  },
  "language_info": {
   "codemirror_mode": {
    "name": "ipython",
    "version": 3
   },
   "file_extension": ".py",
   "mimetype": "text/x-python",
   "name": "python",
   "nbconvert_exporter": "python",
   "pygments_lexer": "ipython3",
   "version": "3.6.8"
  },
  "toc": {
   "base_numbering": 1,
   "nav_menu": {},
   "number_sections": true,
   "sideBar": true,
   "skip_h1_title": false,
   "title_cell": "Table of Contents",
   "title_sidebar": "Contents",
   "toc_cell": false,
   "toc_position": {},
   "toc_section_display": true,
   "toc_window_display": false
  }
 },
 "nbformat": 4,
 "nbformat_minor": 2
}
