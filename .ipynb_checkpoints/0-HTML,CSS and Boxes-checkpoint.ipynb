{
 "cells": [
  {
   "cell_type": "markdown",
   "metadata": {},
   "source": [
    "# 导语\n",
    "\n",
    "我们先了解网页的一些基础知识，如果把我们浏览的网页比作房子的话，那么：\n",
    "- HTML语言则是构成房子的墙体结构，划分客厅、卧室等等；\n",
    "- CSS则是房屋的装修风格，比如涂料的颜色、挂什么画等；\n",
    "- JavaScript则是交互组件，可以比作为电视遥控等，它会改变房屋内的某些元素。\n",
    "\n",
    "房屋搭建与设计的过程中，需要遵守一定的规则，比如，我们不可能把电视悬空放置。同理，网站也有自己的运行规则，OK，那么我们就来先学习一些*规则*吧~\n",
    "\n"
   ]
  },
  {
   "cell_type": "markdown",
   "metadata": {},
   "source": [
    "# 网页设计流程"
   ]
  },
  {
   "cell_type": "markdown",
   "metadata": {},
   "source": [
    "检查网页代码，观察HTML语言的：\n",
    "- 树形结构（DOM树，Document Object Model）\n",
    "- 标签（tag）\n",
    "- 所有对象均为矩形（box）"
   ]
  },
  {
   "attachments": {},
   "cell_type": "markdown",
   "metadata": {},
   "source": [
    "在设计网页时，也可以通过绘制由大到小，由外而内的不同的box来提供思路。\n",
    "![DrZpJe.png](https://s3.ax1x.com/2020/11/27/DrZpJe.png)\n",
    "\n",
    "转换为：\n",
    "![DrZJoT.png](https://s3.ax1x.com/2020/11/27/DrZJoT.png)\n",
    "\n",
    "在添加上对应的CSS：\n",
    "![DrnyT0.png](https://s3.ax1x.com/2020/11/27/DrnyT0.png)\n",
    "\n",
    "然后，再添加上对应的html表头，head与body部分，添加上外部引用的css文件：\n",
    "![DrQMNt.png](https://s3.ax1x.com/2020/11/27/DrQMNt.png)\n",
    "\n",
    "\n",
    "再编辑对应的CSS，设置style即可。"
   ]
  },
  {
   "cell_type": "markdown",
   "metadata": {},
   "source": []
  },
  {
   "cell_type": "markdown",
   "metadata": {},
   "source": [
    "# "
   ]
  }
 ],
 "metadata": {
  "kernelspec": {
   "display_name": "Python 3",
   "language": "python",
   "name": "python3"
  },
  "language_info": {
   "codemirror_mode": {
    "name": "ipython",
    "version": 3
   },
   "file_extension": ".py",
   "mimetype": "text/x-python",
   "name": "python",
   "nbconvert_exporter": "python",
   "pygments_lexer": "ipython3",
   "version": "3.6.8"
  },
  "toc": {
   "base_numbering": 1,
   "nav_menu": {},
   "number_sections": true,
   "sideBar": true,
   "skip_h1_title": false,
   "title_cell": "Table of Contents",
   "title_sidebar": "Contents",
   "toc_cell": false,
   "toc_position": {
    "height": "calc(100% - 180px)",
    "left": "10px",
    "top": "150px",
    "width": "165px"
   },
   "toc_section_display": true,
   "toc_window_display": true
  }
 },
 "nbformat": 4,
 "nbformat_minor": 2
}
