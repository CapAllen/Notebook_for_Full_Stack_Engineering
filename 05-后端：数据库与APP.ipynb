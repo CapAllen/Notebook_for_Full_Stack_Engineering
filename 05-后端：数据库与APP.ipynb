{
 "cells": [
  {
   "cell_type": "markdown",
   "metadata": {},
   "source": [
    "# 关系数据库"
   ]
  },
  {
   "cell_type": "markdown",
   "metadata": {},
   "source": [
    "基础的SQL学习"
   ]
  },
  {
   "cell_type": "markdown",
   "metadata": {},
   "source": [
    "## Python DB-API"
   ]
  },
  {
   "cell_type": "markdown",
   "metadata": {},
   "source": [
    "通过API包，使用Python控制数据库。"
   ]
  },
  {
   "cell_type": "markdown",
   "metadata": {},
   "source": [
    "使用的模式大致如下：\n",
    "\n",
    "先链接数据库（connect），这样就能得到一个Connection的实例，该实例可以：\n",
    "- `.cursor()`，生成Cursor实例，即光标，可以进一步：\n",
    "    - `.execute(SQL Code)`，执行SQL代码，然后\n",
    "    - `.fetchone()`，获得第一行结果，或者\n",
    "    - `.fetchall()`，获得所有结果\n",
    "- 当执行一些修改代码（如插入、删除等），需要执行`.commit()`确认更改，或者\n",
    "- 执行`.rollback()`回滚修改操作。"
   ]
  },
  {
   "cell_type": "markdown",
   "metadata": {},
   "source": [
    "### SQL注入攻击"
   ]
  },
  {
   "cell_type": "markdown",
   "metadata": {},
   "source": [
    "当我们在python中执行一些SQL查询时，可能会写如下的代码：\n",
    "```python\n",
    "c = connection.cursor()\n",
    "c.execute(\"insert into posts values ('%s')\" % content)\n",
    "```"
   ]
  },
  {
   "cell_type": "markdown",
   "metadata": {},
   "source": [
    "如上代码在执行普通查询时，并不会产生错误，但是如果插入的`content`中，包含`'`，就会报错"
   ]
  },
  {
   "cell_type": "markdown",
   "metadata": {},
   "source": [
    "当插入的content为`'); delete from posts; --`时，会导致我们数据库`posts`中的全部数据被删除，这就是**SQL注入攻击**"
   ]
  },
  {
   "cell_type": "markdown",
   "metadata": {},
   "source": [
    "我们可以修改代码为：\n",
    "```python\n",
    "c.execute(\"insert into posts values(%s)\",(content,))\n",
    "```\n",
    "来避免SQL注入攻击。"
   ]
  },
  {
   "cell_type": "markdown",
   "metadata": {},
   "source": [
    "**关键：在使用Python DB-API时，执行SQL代码不要使用输出格式化，如%，format或者f''string等**"
   ]
  },
  {
   "cell_type": "markdown",
   "metadata": {},
   "source": [
    "### 脚本注入攻击"
   ]
  },
  {
   "cell_type": "markdown",
   "metadata": {},
   "source": [
    "如果将content修改为：\n",
    "```javascript\n",
    "<script>\n",
    "setTimeout(function() {\n",
    "    var tt = document.getElementById('content');\n",
    "    tt.value = \"<h2 style='color: #FF6699; font-family: Comic Sans MS'>Spam, spam, spam, spam,<br>Wonderful spam, glorious spam!</h2>\";\n",
    "    tt.form.submit();\n",
    "}, 2500);\n",
    "</script>\n",
    "```\n",
    "也会发生错误，浏览器会不断输出spam（如上js代码的输出），这是因为，对于SQL来说，如上内容即字符串，但是当返回到浏览器中，进行解析时，浏览器会把它当作js并执行。"
   ]
  },
  {
   "cell_type": "markdown",
   "metadata": {},
   "source": [
    "这并不是我们想要的结果，那该如何解决呢？"
   ]
  },
  {
   "cell_type": "markdown",
   "metadata": {},
   "source": [
    "我们可以使用[Bleach](https://bleach.readthedocs.io/en/latest/)库，来帮我们对输入内容进行清理：\n",
    "```python\n",
    "# 安装bleach\n",
    "pip install bleach\n",
    "# 使用\n",
    "import bleach\n",
    "\n",
    "bleach.clean('an <script>evil()</script> example')\n",
    "```\n",
    "输出：`u'an &lt;script&gt;evil()&lt;/script&gt; example'`\n"
   ]
  },
  {
   "cell_type": "markdown",
   "metadata": {},
   "source": [
    "如何处理数据库中已经存在的垃圾信息呢？\n",
    "- 使用`UPDATE`，将垃圾信息替换为无害信息，比如说cheese!\n",
    "    ```SQL\n",
    "    UPDATE table\n",
    "    SET column = value\n",
    "    WHERE xxxxx;\n",
    "    ```\n",
    "- 使用`DELETE`，将垃圾信息删除\n",
    "    ```SQL\n",
    "    DELETE FROM table\n",
    "    WHERE xxxxx;\n",
    "    ```"
   ]
  },
  {
   "cell_type": "markdown",
   "metadata": {},
   "source": [
    "## 数据库设计"
   ]
  },
  {
   "cell_type": "markdown",
   "metadata": {},
   "source": [
    "要遵循规范式设计（Normalized Design）：\n",
    "- 每一行都要有相同数量的列；\n",
    "- 每张表中包含关键列（key），每一行都说明了该关键列的某些信息；\n",
    "- 每张表中不需要包含说明非关键列信息的列，   \n",
    "    比如：`姓名，年龄，购买商品，商品价格`中，`姓名`为关键列，而`商品价格`是对`购买商品`的说明，  \n",
    "    所以，我们需要拆成两张表，即`姓名，年龄，购买商品`与`商品，商品价格`\n",
    "- 表中的各列不应该有关系暗示，会产生误导，  \n",
    "    比如：在员工技能表中\n",
    "    <img src=\"https://s3.ax1x.com/2020/12/03/DTVuuR.png\" alt=\"DTVuuR.png\" border=\"0\" width=\"300px\"/>\n",
    "    \n",
    "    可能会误导，Annabel会Databases与English有关；会Linux与French有关。这时候，我们最好可以拆成两张表：\n",
    "    \n",
    "    <img src=\"https://s3.ax1x.com/2020/12/03/DTVRrn.md.png\" alt=\"DTVRrn.png\" border=\"0\" width=\"500px\"/>\n",
    "    \n"
   ]
  },
  {
   "cell_type": "code",
   "execution_count": null,
   "metadata": {},
   "outputs": [],
   "source": []
  }
 ],
 "metadata": {
  "kernelspec": {
   "display_name": "Python 3",
   "language": "python",
   "name": "python3"
  },
  "language_info": {
   "codemirror_mode": {
    "name": "ipython",
    "version": 3
   },
   "file_extension": ".py",
   "mimetype": "text/x-python",
   "name": "python",
   "nbconvert_exporter": "python",
   "pygments_lexer": "ipython3",
   "version": "3.6.8"
  },
  "toc": {
   "base_numbering": 1,
   "nav_menu": {},
   "number_sections": true,
   "sideBar": true,
   "skip_h1_title": false,
   "title_cell": "Table of Contents",
   "title_sidebar": "Contents",
   "toc_cell": false,
   "toc_position": {},
   "toc_section_display": true,
   "toc_window_display": false
  }
 },
 "nbformat": 4,
 "nbformat_minor": 2
}
