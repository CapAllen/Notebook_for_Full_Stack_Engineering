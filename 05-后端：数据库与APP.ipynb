{
 "cells": [
  {
   "cell_type": "markdown",
   "metadata": {},
   "source": [
    "# 关系数据库"
   ]
  },
  {
   "cell_type": "markdown",
   "metadata": {},
   "source": [
    "基础的SQL学习"
   ]
  },
  {
   "cell_type": "markdown",
   "metadata": {},
   "source": [
    "## Python DB-API"
   ]
  },
  {
   "cell_type": "markdown",
   "metadata": {},
   "source": [
    "通过API包，使用Python控制数据库。"
   ]
  },
  {
   "cell_type": "markdown",
   "metadata": {},
   "source": [
    "使用的模式大致如下：\n",
    "\n",
    "先链接数据库（connect），这样就能得到一个Connection的实例，该实例可以：\n",
    "- `.cursor()`，生成Cursor实例，即光标，可以进一步：\n",
    "    - `.execute(SQL Code)`，执行SQL代码，然后\n",
    "    - `.fetchone()`，获得第一行结果，或者\n",
    "    - `.fetchall()`，获得所有结果\n",
    "- 当执行一些修改代码（如插入、删除等），需要执行`.commit()`确认更改，或者\n",
    "- 执行`.rollback()`回滚修改操作。"
   ]
  },
  {
   "cell_type": "markdown",
   "metadata": {},
   "source": [
    "### SQL注入攻击"
   ]
  },
  {
   "cell_type": "markdown",
   "metadata": {},
   "source": [
    "当我们在python中执行一些SQL查询时，可能会写如下的代码：\n",
    "```python\n",
    "c = connection.cursor()\n",
    "c.execute(\"insert into posts values ('%s')\" % content)\n",
    "```"
   ]
  },
  {
   "cell_type": "markdown",
   "metadata": {},
   "source": [
    "如上代码在执行普通查询时，并不会产生错误，但是如果插入的`content`中，包含`'`，就会报错"
   ]
  },
  {
   "cell_type": "markdown",
   "metadata": {},
   "source": [
    "当插入的content为`'); delete from posts; --`时，会导致我们数据库`posts`中的全部数据被删除，这就是**SQL注入攻击**"
   ]
  },
  {
   "cell_type": "markdown",
   "metadata": {},
   "source": [
    "我们可以修改代码为：\n",
    "```python\n",
    "c.execute(\"insert into posts values(%s)\",(content,))\n",
    "```\n",
    "来避免SQL注入攻击。"
   ]
  },
  {
   "cell_type": "markdown",
   "metadata": {},
   "source": [
    "**关键：在使用Python DB-API时，执行SQL代码不要使用输出格式化，如%，format或者f''string等**"
   ]
  },
  {
   "cell_type": "markdown",
   "metadata": {},
   "source": [
    "### 脚本注入攻击"
   ]
  },
  {
   "cell_type": "markdown",
   "metadata": {},
   "source": [
    "如果将content修改为：\n",
    "```javascript\n",
    "<script>\n",
    "setTimeout(function() {\n",
    "    var tt = document.getElementById('content');\n",
    "    tt.value = \"<h2 style='color: #FF6699; font-family: Comic Sans MS'>Spam, spam, spam, spam,<br>Wonderful spam, glorious spam!</h2>\";\n",
    "    tt.form.submit();\n",
    "}, 2500);\n",
    "</script>\n",
    "```\n",
    "也会发生错误，浏览器会不断输出spam（如上js代码的输出），这是因为，对于SQL来说，如上内容即字符串，但是当返回到浏览器中，进行解析时，浏览器会把它当作js并执行。"
   ]
  },
  {
   "cell_type": "markdown",
   "metadata": {},
   "source": [
    "这并不是我们想要的结果，那该如何解决呢？"
   ]
  },
  {
   "cell_type": "markdown",
   "metadata": {},
   "source": [
    "我们可以使用[Bleach](https://bleach.readthedocs.io/en/latest/)库，来帮我们对输入内容进行清理：\n",
    "```python\n",
    "# 安装bleach\n",
    "pip install bleach\n",
    "# 使用\n",
    "import bleach\n",
    "\n",
    "bleach.clean('an <script>evil()</script> example')\n",
    "```\n",
    "输出：`u'an &lt;script&gt;evil()&lt;/script&gt; example'`\n"
   ]
  },
  {
   "cell_type": "markdown",
   "metadata": {},
   "source": [
    "如何处理数据库中已经存在的垃圾信息呢？\n",
    "- 使用`UPDATE`，将垃圾信息替换为无害信息，比如说cheese!\n",
    "    ```SQL\n",
    "    UPDATE table\n",
    "    SET column = value\n",
    "    WHERE xxxxx;\n",
    "    ```\n",
    "- 使用`DELETE`，将垃圾信息删除\n",
    "    ```SQL\n",
    "    DELETE FROM table\n",
    "    WHERE xxxxx;\n",
    "    ```"
   ]
  },
  {
   "cell_type": "markdown",
   "metadata": {},
   "source": [
    "## 数据库设计"
   ]
  },
  {
   "cell_type": "markdown",
   "metadata": {},
   "source": [
    "要遵循规范式设计（Normalized Design）：\n",
    "- 每一行都要有相同数量的列；\n",
    "- 每张表中包含关键列（key），每一行都说明了该关键列的某些信息；\n",
    "- 每张表中不需要包含说明非关键列信息的列，   \n",
    "    比如：`姓名，年龄，购买商品，商品价格`中，`姓名`为关键列，而`商品价格`是对`购买商品`的说明，  \n",
    "    所以，我们需要拆成两张表，即`姓名，年龄，购买商品`与`商品，商品价格`\n",
    "- 表中的各列不应该有关系暗示，会产生误导，  \n",
    "    比如：在员工技能表中\n",
    "    <img src=\"https://s3.ax1x.com/2020/12/03/DTVuuR.png\" alt=\"DTVuuR.png\" border=\"0\" width=\"300px\"/>\n",
    "    \n",
    "    可能会误导，Annabel会Databases与English有关；会Linux与French有关。这时候，我们最好可以拆成两张表：\n",
    "    \n",
    "    <img src=\"https://s3.ax1x.com/2020/12/03/DTVRrn.md.png\" alt=\"DTVRrn.png\" border=\"0\" width=\"500px\"/>\n",
    "    \n"
   ]
  },
  {
   "cell_type": "markdown",
   "metadata": {},
   "source": [
    "# 后端基础\n",
    "## CRUD（Create，Read，Update，Delete）模式"
   ]
  },
  {
   "cell_type": "markdown",
   "metadata": {},
   "source": [
    "先来了解一下**对象关系映射（Object Relational Mapping,ORM）**，是一种程序设计技术，用于实现面向对象编程语言里不同类型系统的数据之间的转换。其实就是以对象形式表示的数据库，更方便我们在面向对象语言（如Python）中使用。\n",
    "\n",
    "在Python中，我们使用最多的工具是[SQLAlchemy](https://www.sqlalchemy.org/)"
   ]
  },
  {
   "cell_type": "markdown",
   "metadata": {},
   "source": [
    "### 使用SQLAlchemy创建数据库\n",
    "#### 配置代码\n",
    "用于导入所有必要的模块"
   ]
  },
  {
   "cell_type": "markdown",
   "metadata": {},
   "source": [
    "`database_setup.py`\n",
    "```python\n",
    "import sys\n",
    "from sql\n",
    "\n",
    "from sqlalchemy import Column, ForeignKey, Integer, String\n",
    "# 导入declarative_base，用于配置和类代码\n",
    "from sqlalchemy.ext.declarative import declarative_base\n",
    "# 用于创建外键关系，也会在创建mapper上派上用场\n",
    "from sqlalchemy.orm import relationship\n",
    "# 用于文末代码（创建或链接数据库）\n",
    "from sqlalchemy import create_engine\n",
    "\n",
    "Base = declarative_base()\n",
    "\n",
    "# 连接数据库，这里也可以链接其他数据库，比如mysq等\n",
    "engine = create_engine('sqlite:///restaurantmenu.db')\n",
    "\n",
    "# 进入数据库\n",
    "Base.metadata.create_all(engine)\n",
    "```"
   ]
  },
  {
   "cell_type": "markdown",
   "metadata": {},
   "source": [
    "#### Class 类\n",
    "使用Python中的类代表我们的数据库"
   ]
  },
  {
   "cell_type": "markdown",
   "metadata": {},
   "source": [
    "比如说，我们分别创建两张表：\n",
    "- 餐厅表\n",
    "- 菜单表\n",
    "\n",
    "```python\n",
    "class Restaurant(Base):\n",
    "    \n",
    "    \n",
    "class MenuItem(Base):\n",
    "\n",
    "```"
   ]
  },
  {
   "cell_type": "markdown",
   "metadata": {},
   "source": [
    "#### Table 表\n",
    "代表数据库中特定的表格"
   ]
  },
  {
   "cell_type": "markdown",
   "metadata": {},
   "source": [
    "在如上对应的类中，添加表名（建议小写）\n",
    "```python\n",
    "# 在Restaurant类中\n",
    "__tablename__ = 'restaurant'\n",
    "\n",
    "\n",
    "# 在MenuItem类中\n",
    "__tablename__ = 'menu_item'\n",
    "```"
   ]
  },
  {
   "cell_type": "markdown",
   "metadata": {},
   "source": [
    "#### Mapper映射器\n",
    "用于将表格中的列与代表它的类链接，比如\n",
    "```python\n",
    "String(250) # 创建一个长度最多为250的字符串\n",
    "Integer # 创建整型\n",
    "relationship(Class) # 该表与其他表之间的关系\n",
    "nullable = False # 是否允许有空值\n",
    "primary_key = True # 是否是主键\n",
    "ForeignKey('some_table.id') #与其他表中某列的外键关系\n",
    "```"
   ]
  },
  {
   "cell_type": "markdown",
   "metadata": {},
   "source": [
    "在刚才创建的表格中，分别添加上列：\n",
    "- 餐厅表：\n",
    "    - 餐厅名称\n",
    "    - 餐厅id（主键）\n",
    "- 菜单表：\n",
    "    - 菜单名称\n",
    "    - 菜单id\n",
    "    - 菜品名称\n",
    "    - 菜品描述\n",
    "    - 菜品价格\n",
    "    - 餐厅id\n",
    "    "
   ]
  },
  {
   "cell_type": "markdown",
   "metadata": {},
   "source": [
    "```python\n",
    "# 在Restaurant类中\n",
    "name = Column(String(80),nullable=False)# 餐厅名称，字符类型，不允许为空\n",
    "id = Column(Integer,primary_key=True)\n",
    "    \n",
    "\n",
    "\n",
    "# 在MenuItem类中\n",
    "name = Column(String(80),nullable=False)\n",
    "id = Column(Integer,primary_key=True)\n",
    "course = Column(String(250))\n",
    "description = Column(String(250))\n",
    "price = Column(String(8))\n",
    "restaurant_id = Column(Integer,ForeignKey('restaurant.id'))\n",
    "restaurant = relationship(Restaurant)\n",
    "```"
   ]
  },
  {
   "cell_type": "markdown",
   "metadata": {},
   "source": [
    "#### 合并所有代码"
   ]
  },
  {
   "cell_type": "markdown",
   "metadata": {},
   "source": [
    "将如上代码合并，代码架构可以如下所示：\n",
    "![DT4MOP.png](https://s3.ax1x.com/2020/12/03/DT4MOP.png)"
   ]
  },
  {
   "cell_type": "code",
   "execution_count": 3,
   "metadata": {},
   "outputs": [],
   "source": [
    "import os\n",
    "import sys\n",
    "from sqlalchemy import Column, ForeignKey, Integer, String\n",
    "from sqlalchemy.ext.declarative import declarative_base\n",
    "from sqlalchemy.orm import relationship\n",
    "from sqlalchemy import create_engine\n",
    "\n",
    "Base = declarative_base()\n",
    "\n",
    "\n",
    "class Restaurant(Base):\n",
    "    __tablename__ = 'restaurant'\n",
    "\n",
    "    id = Column(Integer, primary_key=True)\n",
    "    name = Column(String(250), nullable=False)\n",
    "\n",
    "\n",
    "class MenuItem(Base):\n",
    "    __tablename__ = 'menu_item'\n",
    "\n",
    "    name = Column(String(80), nullable=False)\n",
    "    id = Column(Integer, primary_key=True)\n",
    "    description = Column(String(250))\n",
    "    price = Column(String(8))\n",
    "    course = Column(String(250))\n",
    "    restaurant_id = Column(Integer, ForeignKey('restaurant.id'))\n",
    "    restaurant = relationship(Restaurant)\n",
    "\n",
    "\n",
    "engine = create_engine('sqlite:///restaurantmenu.db')\n",
    "# 创建\n",
    "Base.metadata.create_all(engine)"
   ]
  },
  {
   "cell_type": "markdown",
   "metadata": {},
   "source": [
    "### CRUD-CREATE"
   ]
  },
  {
   "cell_type": "markdown",
   "metadata": {},
   "source": [
    "现在我们已经有了一个空的数据库，现在创建一些数据"
   ]
  },
  {
   "cell_type": "code",
   "execution_count": 5,
   "metadata": {},
   "outputs": [],
   "source": [
    "from sqlalchemy import create_engine\n",
    "from sqlalchemy.orm import sessionmaker\n",
    "from database_setup import Base, Restaurant, MenuItem"
   ]
  },
  {
   "cell_type": "code",
   "execution_count": 6,
   "metadata": {},
   "outputs": [],
   "source": [
    "# 链接数据库\n",
    "engine = create_engine('sqlite:///restaurantmenu.db')"
   ]
  },
  {
   "cell_type": "code",
   "execution_count": 7,
   "metadata": {},
   "outputs": [],
   "source": [
    "# 用bind将engine与Base绑定在一起\n",
    "Base.metadata.bind = engine"
   ]
  },
  {
   "cell_type": "code",
   "execution_count": 9,
   "metadata": {},
   "outputs": [],
   "source": [
    "# 创建一个session，与数据库进行会话\n",
    "DBsession = sessionmaker(bind=engine)\n",
    "# 实例化session\n",
    "# 我们可以使用session进行CRUD操作，但之后需要使用commit进行确认\n",
    "session = DBsession()"
   ]
  },
  {
   "cell_type": "markdown",
   "metadata": {},
   "source": [
    "添加数据时，可以按照如下模板：\n",
    "```python \n",
    "newEntry = ClassName(property=\"value\",...)\n",
    "session.add(newEntry)\n",
    "session.commit()\n",
    "```"
   ]
  },
  {
   "cell_type": "code",
   "execution_count": 10,
   "metadata": {},
   "outputs": [],
   "source": [
    "# 添加餐厅\n",
    "myFirstRestaurant = Restaurant(name=\"Pizza Palace\")\n",
    "session.add(myFirstRestaurant)\n",
    "session.commit()"
   ]
  },
  {
   "cell_type": "code",
   "execution_count": 11,
   "metadata": {},
   "outputs": [
    {
     "data": {
      "text/plain": [
       "[<database_setup.Restaurant at 0x8289198>]"
      ]
     },
     "execution_count": 11,
     "metadata": {},
     "output_type": "execute_result"
    }
   ],
   "source": [
    "# 查看是否添加成功\n",
    "session.query(Restaurant).all()"
   ]
  },
  {
   "cell_type": "markdown",
   "metadata": {},
   "source": [
    "可以发现，确实有数据存在内存的某处了。至于如何筛选，我们后面再了解。"
   ]
  },
  {
   "cell_type": "code",
   "execution_count": 12,
   "metadata": {},
   "outputs": [],
   "source": [
    "# 添加菜单\n",
    "cheesepizza = MenuItem(name=\"Cheese Pizza\", description=\"Made by Franchise\",\n",
    "                      course=\"Entree\",price=\"$8.99\",restaurant=myFirstRestaurant)\n",
    "session.add(cheesepizza)\n",
    "session.commit()"
   ]
  },
  {
   "cell_type": "code",
   "execution_count": 13,
   "metadata": {},
   "outputs": [
    {
     "data": {
      "text/plain": [
       "[<database_setup.MenuItem at 0x8398518>]"
      ]
     },
     "execution_count": 13,
     "metadata": {},
     "output_type": "execute_result"
    }
   ],
   "source": [
    "# 查看是否添加成功\n",
    "session.query(MenuItem).all()"
   ]
  },
  {
   "cell_type": "markdown",
   "metadata": {},
   "source": [
    "### CRUD-READ"
   ]
  },
  {
   "cell_type": "code",
   "execution_count": 14,
   "metadata": {},
   "outputs": [],
   "source": [
    "# 查看第一条\n",
    "firstResult = session.query(Restaurant).first()"
   ]
  },
  {
   "cell_type": "code",
   "execution_count": 15,
   "metadata": {},
   "outputs": [
    {
     "data": {
      "text/plain": [
       "'Pizza Palace'"
      ]
     },
     "execution_count": 15,
     "metadata": {},
     "output_type": "execute_result"
    }
   ],
   "source": [
    "# 使用类调用的方式去查看\n",
    "firstResult.name"
   ]
  },
  {
   "cell_type": "markdown",
   "metadata": {},
   "source": [
    "当有多条时，只需要使用for循环配合就可以，如：\n",
    "```python\n",
    "allResult = session.query(Restaurant).all()\n",
    "for item in allResult:\n",
    "    print(item.name)\n",
    "```"
   ]
  },
  {
   "cell_type": "markdown",
   "metadata": {},
   "source": [
    "### CRUD-QUERY（查询）"
   ]
  },
  {
   "cell_type": "markdown",
   "metadata": {},
   "source": [
    "我们还需要涉及到一些条件筛选，就像在SQL中做的那样。"
   ]
  },
  {
   "cell_type": "code",
   "execution_count": 16,
   "metadata": {},
   "outputs": [],
   "source": [
    "# 首先，我们需要使用query创建一个query对象\n",
    "q = session.query(Restaurant)"
   ]
  },
  {
   "cell_type": "markdown",
   "metadata": {},
   "source": [
    "当然，也可以针对某几列，如：\n",
    "```python\n",
    "q = session.query(MenuItem.name,MenuItem.description)\n",
    "```"
   ]
  },
  {
   "cell_type": "markdown",
   "metadata": {},
   "source": [
    "#### filter"
   ]
  },
  {
   "cell_type": "markdown",
   "metadata": {},
   "source": [
    "- 方案A：使用Pythonic的方式"
   ]
  },
  {
   "cell_type": "markdown",
   "metadata": {},
   "source": [
    "**算术运算符**：\n",
    "\n",
    "```python\n",
    "q.filter(User.name == 'ed') # !=不等于；>大于；<小于等等\n",
    "```\n"
   ]
  },
  {
   "cell_type": "markdown",
   "metadata": {},
   "source": [
    "**成员运算符：**\n",
    "```python\n",
    "# IN\n",
    "q.filter(User.name.in_(['a','b','v']))\n",
    "# NOT IN\n",
    "q.filter(~User.name.in_(['a','b','v']))\n",
    "```"
   ]
  },
  {
   "cell_type": "markdown",
   "metadata": {},
   "source": [
    "**模糊筛选：**\n",
    "```python\n",
    "q.filter(User.name.like('%ed%'))\n",
    "```"
   ]
  },
  {
   "cell_type": "markdown",
   "metadata": {},
   "source": [
    "**NULL筛选**\n",
    "```\n",
    "# IS NULL\n",
    "query.filter(User.name == None)\n",
    "# 或者\n",
    "query.filter(User.name.is_(None))\n",
    "\n",
    "# NOT NULL\n",
    "query.filter(User.name != None)\n",
    "# 或者\n",
    "query.filter(User.name.isnot(None))\n",
    "```"
   ]
  },
  {
   "cell_type": "markdown",
   "metadata": {},
   "source": [
    "**多条件逻辑运算符**\n",
    "```python\n",
    "# 与\n",
    "# 方法1\n",
    "from sqlalchemy import and_\n",
    "query.filter(and_(User.name == 'ed', User.fullname == 'Ed Jones'))\n",
    "\n",
    "# 方法2\n",
    "query.filter(User.name == 'ed', User.fullname == 'Ed Jones')\n",
    "\n",
    "# 方法3\n",
    "query.filter(User.name == 'ed').filter(User.fullname == 'Ed Jones')\n",
    "```\n",
    "\n",
    "```python\n",
    "# 或\n",
    "from sqlalchemy import or_\n",
    "query.filter(or_(User.name == 'ed', User.name == 'wendy'))\n",
    "```\n",
    "\n",
    "```python\n",
    "# 非\n",
    "q.filter(~User.name.in_(['a','b','v']))\n",
    "```"
   ]
  },
  {
   "cell_type": "markdown",
   "metadata": {},
   "source": [
    "- 方案B：使用SQL原生语句"
   ]
  },
  {
   "cell_type": "markdown",
   "metadata": {},
   "source": [
    "```python\n",
    "from sqlalchemy import text\n",
    "q.filter(text(\"id<224\"))\n",
    "# 或者\n",
    "q.from_statement(text(\"SELECT * FROM users where name=:name\")).params(name='ed')\n",
    "```\n"
   ]
  },
  {
   "cell_type": "markdown",
   "metadata": {},
   "source": [
    "#### 聚合，排序，联合表"
   ]
  },
  {
   "cell_type": "markdown",
   "metadata": {},
   "source": [
    "**聚合**\n",
    "```SQL\n",
    "SELECT school, COUNT(*) AS c \n",
    "FROM persons \n",
    "WHERE gender=\"male\" \n",
    "GROUP BY age \n",
    "HAVING c >1\n",
    "```\n",
    "等价于\n",
    "```python\n",
    "from sqlalchemy import func\n",
    "# label用于别名，与SQL代码中的AS一致\n",
    "# 对于其他的聚合计算函数，如SUM，AVG等分别对应于\n",
    "nums = func.count('*').label('c')\n",
    "\n",
    "results = sessin.query( Person.school, nums ).filter(\n",
    "    Person.gender=='male'\n",
    ").group_by(\n",
    "    Person.age\n",
    ").having(\n",
    "    nums > 10\n",
    ")\n",
    "```"
   ]
  },
  {
   "cell_type": "markdown",
   "metadata": {},
   "source": [
    "**排序**\n",
    "```python\n",
    "q.order_by(User.create_time.desc())\n",
    "# 或者\n",
    "from sqlalchemy import desc\n",
    "q.order_by(desc(Usser_ID))\n",
    "# 或者直接在定义数据类（Class）的时候，添加上默认排序方式，如\n",
    "class User(Base):　　\n",
    "　　__tablename__ = \"user\"　　\n",
    "　　id = Column(Integer , primary_key=True , autoincrement=True)　　\n",
    "　　name = Column(String(50) , nullable=False)　　\n",
    "　　create_time = Column(DateTime , nullable=False , default=datetime.now)\n",
    "　　\n",
    "　　__mapper_args__ = {　　\n",
    "　　\"order_by\":create_time.desc()　　\n",
    "　　}　　\n",
    "\n",
    "# 这样，所有的筛选都会按照create_time的倒序给出结果\n",
    "\n",
    "```\n"
   ]
  },
  {
   "cell_type": "markdown",
   "metadata": {},
   "source": [
    "**多表联合**\n",
    "```python\n",
    "# User与Address为表\n",
    "session.query(User, Address).\\\n",
    "    filter(User.id==Address.user_id).\\\n",
    "    filter(Address.email_address=='jack@google.com')\n",
    "# 等价于\n",
    "# 此方法需要在定义数据库时，设定好外键\n",
    "session.query(User).join(Address).\\\n",
    "    filter(Address.email_address=='jack@google.com')\n",
    "# 如果没有设置好外键，需要指定关键列\n",
    "session.query(User).\\\n",
    "    join(Address, User.id==Address.user_id).\\\n",
    "    filter(Address.email_address=='jack@google.com')\n",
    "# 如上的join默认为inner-join\n",
    "# outerjoin的话直接使用函数outerjoin即可，不过这里都是left outerjoin\n",
    "# 如果想使用full outerjoin的话，只需要创建两个left outerjoin，然后再合并即可，如下所示：\n",
    "q1 = (db.session.query(\n",
    "        tb1.user_id.label('u_id'),\n",
    "        func.count(tb1.id).label('tb1_c')\n",
    "    )\n",
    "    .group_by(tb1.user_id)\n",
    ").cte('q1')\n",
    "\n",
    "q2 = (db.session.query(\n",
    "        tb2.user_id.label('u_id'),\n",
    "        func.count(tb2.id).label('tb2_c')\n",
    "    )\n",
    "    .group_by(tb2.user_id)\n",
    ").cte('q2')\n",
    "\n",
    "result = db.session.query(\n",
    "    func.coalesce(q1.u_id, q2.u_id).label('u_id'),\n",
    "    q1.tb1_c,\n",
    "    q2.tb2_c\n",
    ").join(\n",
    "    q2,\n",
    "    q1.u_id == q2.u_id,\n",
    "    full=True\n",
    ")\n",
    "```"
   ]
  },
  {
   "cell_type": "markdown",
   "metadata": {},
   "source": [
    "更多筛选可以去这里查询：[SQLAlchemy-Query](https://www.osgeo.cn/sqlalchemy/orm/query.html)"
   ]
  },
  {
   "cell_type": "markdown",
   "metadata": {},
   "source": [
    "### CRUD-UPDATE"
   ]
  },
  {
   "cell_type": "markdown",
   "metadata": {},
   "source": [
    "```python\n",
    "# 先筛选对应的数据，并用one返回\n",
    "need_update = session.query(MenuItem).filter(id=8).one()\n",
    "# 更新某数据\n",
    "need_update.price = \"$2.99\"\n",
    "session.add(need_update)\n",
    "session.commit()\n",
    "```\n"
   ]
  },
  {
   "cell_type": "markdown",
   "metadata": {},
   "source": [
    "### CRUD-DELETE"
   ]
  },
  {
   "cell_type": "markdown",
   "metadata": {},
   "source": [
    "```python\n",
    "# 先筛选对应的数据\n",
    "need_delete = session.query(MenuItem).filter(id=8).one()\n",
    "# 删除\n",
    "session.delete(need_delete)\n",
    "session.commit()\n",
    "```"
   ]
  },
  {
   "cell_type": "markdown",
   "metadata": {},
   "source": [
    "## 搭建web服务 "
   ]
  },
  {
   "cell_type": "markdown",
   "metadata": {},
   "source": []
  }
 ],
 "metadata": {
  "kernelspec": {
   "display_name": "Python 3",
   "language": "python",
   "name": "python3"
  },
  "language_info": {
   "codemirror_mode": {
    "name": "ipython",
    "version": 3
   },
   "file_extension": ".py",
   "mimetype": "text/x-python",
   "name": "python",
   "nbconvert_exporter": "python",
   "pygments_lexer": "ipython3",
   "version": "3.6.8"
  },
  "toc": {
   "base_numbering": 1,
   "nav_menu": {},
   "number_sections": true,
   "sideBar": true,
   "skip_h1_title": false,
   "title_cell": "Table of Contents",
   "title_sidebar": "Contents",
   "toc_cell": false,
   "toc_position": {
    "height": "calc(100% - 180px)",
    "left": "10px",
    "top": "150px",
    "width": "165px"
   },
   "toc_section_display": true,
   "toc_window_display": true
  }
 },
 "nbformat": 4,
 "nbformat_minor": 2
}
