{
 "cells": [
  {
   "cell_type": "markdown",
   "metadata": {},
   "source": [
    "# 关系数据库"
   ]
  },
  {
   "cell_type": "markdown",
   "metadata": {},
   "source": [
    "基础的SQL学习"
   ]
  },
  {
   "cell_type": "markdown",
   "metadata": {},
   "source": [
    "## Python DB-API"
   ]
  },
  {
   "cell_type": "markdown",
   "metadata": {},
   "source": [
    "通过API包，使用Python控制数据库。"
   ]
  },
  {
   "cell_type": "markdown",
   "metadata": {},
   "source": [
    "使用的模式大致如下：\n",
    "\n",
    "先链接数据库（connect），这样就能得到一个Connection的实例，该实例可以：\n",
    "- `.cursor()`，生成Cursor实例，即光标，可以进一步：\n",
    "    - `.execute(SQL Code)`，执行SQL代码，然后\n",
    "    - `.fetchone()`，获得第一行结果，或者\n",
    "    - `.fetchall()`，获得所有结果\n",
    "- 当执行一些修改代码（如插入、删除等），需要执行`.commit()`确认更改，或者\n",
    "- 执行`.rollback()`回滚修改操作。"
   ]
  },
  {
   "cell_type": "markdown",
   "metadata": {},
   "source": [
    "### SQL注入攻击"
   ]
  },
  {
   "cell_type": "markdown",
   "metadata": {},
   "source": [
    "当我们在python中执行一些SQL查询时，可能会写如下的代码：\n",
    "```python\n",
    "c = connection.cursor()\n",
    "c.execute(\"insert into posts values ('%s')\" % content)\n",
    "```"
   ]
  },
  {
   "cell_type": "markdown",
   "metadata": {},
   "source": [
    "如上代码在执行普通查询时，并不会产生错误，但是如果插入的`content`中，包含`'`，就会报错"
   ]
  },
  {
   "cell_type": "markdown",
   "metadata": {},
   "source": [
    "当插入的content为`'); delete from posts; --`时，会导致我们数据库`posts`中的全部数据被删除，这就是**SQL注入攻击**"
   ]
  },
  {
   "cell_type": "markdown",
   "metadata": {},
   "source": [
    "我们可以修改代码为：\n",
    "```python\n",
    "c.execute(\"insert into posts values(%s)\",(content,))\n",
    "```\n",
    "来避免SQL注入攻击。"
   ]
  },
  {
   "cell_type": "markdown",
   "metadata": {},
   "source": [
    "**关键：在使用Python DB-API时，执行SQL代码不要使用输出格式化，如%，format或者f''string等**"
   ]
  },
  {
   "cell_type": "markdown",
   "metadata": {},
   "source": [
    "### 脚本注入攻击"
   ]
  },
  {
   "cell_type": "markdown",
   "metadata": {},
   "source": [
    "如果将content修改为：\n",
    "```javascript\n",
    "<script>\n",
    "setTimeout(function() {\n",
    "    var tt = document.getElementById('content');\n",
    "    tt.value = \"<h2 style='color: #FF6699; font-family: Comic Sans MS'>Spam, spam, spam, spam,<br>Wonderful spam, glorious spam!</h2>\";\n",
    "    tt.form.submit();\n",
    "}, 2500);\n",
    "</script>\n",
    "```\n",
    "也会发生错误，浏览器会不断输出spam（如上js代码的输出），这是因为，对于SQL来说，如上内容即字符串，但是当返回到浏览器中，进行解析时，浏览器会把它当作js并执行。"
   ]
  },
  {
   "cell_type": "markdown",
   "metadata": {},
   "source": [
    "这并不是我们想要的结果，那该如何解决呢？"
   ]
  },
  {
   "cell_type": "markdown",
   "metadata": {},
   "source": [
    "我们可以使用[Bleach](https://bleach.readthedocs.io/en/latest/)库，来帮我们对输入内容进行清理：\n",
    "```python\n",
    "# 安装bleach\n",
    "pip install bleach\n",
    "# 使用\n",
    "import bleach\n",
    "\n",
    "bleach.clean('an <script>evil()</script> example')\n",
    "```\n",
    "输出：`u'an &lt;script&gt;evil()&lt;/script&gt; example'`\n"
   ]
  },
  {
   "cell_type": "markdown",
   "metadata": {},
   "source": [
    "如何处理数据库中已经存在的垃圾信息呢？\n",
    "- 使用`UPDATE`，将垃圾信息替换为无害信息，比如说cheese!\n",
    "    ```SQL\n",
    "    UPDATE table\n",
    "    SET column = value\n",
    "    WHERE xxxxx;\n",
    "    ```\n",
    "- 使用`DELETE`，将垃圾信息删除\n",
    "    ```SQL\n",
    "    DELETE FROM table\n",
    "    WHERE xxxxx;\n",
    "    ```"
   ]
  },
  {
   "cell_type": "markdown",
   "metadata": {},
   "source": [
    "## 数据库设计"
   ]
  },
  {
   "cell_type": "markdown",
   "metadata": {},
   "source": [
    "要遵循规范式设计（Normalized Design）：\n",
    "- 每一行都要有相同数量的列；\n",
    "- 每张表中包含关键列（key），每一行都说明了该关键列的某些信息；\n",
    "- 每张表中不需要包含说明非关键列信息的列，   \n",
    "    比如：`姓名，年龄，购买商品，商品价格`中，`姓名`为关键列，而`商品价格`是对`购买商品`的说明，  \n",
    "    所以，我们需要拆成两张表，即`姓名，年龄，购买商品`与`商品，商品价格`\n",
    "- 表中的各列不应该有关系暗示，会产生误导，  \n",
    "    比如：在员工技能表中\n",
    "    <img src=\"https://s3.ax1x.com/2020/12/03/DTVuuR.png\" alt=\"DTVuuR.png\" border=\"0\" width=\"300px\"/>\n",
    "    \n",
    "    可能会误导，Annabel会Databases与English有关；会Linux与French有关。这时候，我们最好可以拆成两张表：\n",
    "    \n",
    "    <img src=\"https://s3.ax1x.com/2020/12/03/DTVRrn.md.png\" alt=\"DTVRrn.png\" border=\"0\" width=\"500px\"/>\n",
    "    \n"
   ]
  },
  {
   "cell_type": "markdown",
   "metadata": {},
   "source": [
    "# 后端基础\n",
    "## CRUD（Create，Read，Update，Delete）模式"
   ]
  },
  {
   "cell_type": "markdown",
   "metadata": {},
   "source": [
    "先来了解一下**对象关系映射（Object Relational Mapping,ORM）**，是一种程序设计技术，用于实现面向对象编程语言里不同类型系统的数据之间的转换。其实就是以对象形式表示的数据库，更方便我们在面向对象语言（如Python）中使用。\n",
    "\n",
    "在Python中，我们使用最多的工具是[SQLAlchemy](https://www.sqlalchemy.org/)"
   ]
  },
  {
   "cell_type": "markdown",
   "metadata": {},
   "source": [
    "### 使用SQLAlchemy创建数据库\n",
    "#### 配置代码\n",
    "用于导入所有必要的模块"
   ]
  },
  {
   "cell_type": "markdown",
   "metadata": {},
   "source": [
    "`database_setup.py`\n",
    "```python\n",
    "import sys\n",
    "from sql\n",
    "\n",
    "from sqlalchemy import Column, ForeignKey, Integer, String\n",
    "# 导入declarative_base，用于配置和类代码\n",
    "from sqlalchemy.ext.declarative import declarative_base\n",
    "# 用于创建外键关系，也会在创建mapper上派上用场\n",
    "from sqlalchemy.orm import relationship\n",
    "# 用于文末代码（创建或链接数据库）\n",
    "from sqlalchemy import create_engine\n",
    "\n",
    "Base = declarative_base()\n",
    "\n",
    "# 连接数据库，这里也可以链接其他数据库，比如mysq等\n",
    "engine = create_engine('sqlite:///restaurantmenu.db')\n",
    "\n",
    "# 进入数据库\n",
    "Base.metadata.create_all(engine)\n",
    "```"
   ]
  },
  {
   "cell_type": "markdown",
   "metadata": {},
   "source": [
    "#### Class 类\n",
    "使用Python中的类代表我们的数据库"
   ]
  },
  {
   "cell_type": "markdown",
   "metadata": {},
   "source": [
    "比如说，我们分别创建两张表：\n",
    "- 餐厅表\n",
    "- 菜单表\n",
    "\n",
    "```python\n",
    "class Restaurant(Base):\n",
    "    \n",
    "    \n",
    "class MenuItem(Base):\n",
    "\n",
    "```"
   ]
  },
  {
   "cell_type": "markdown",
   "metadata": {},
   "source": [
    "#### Table 表\n",
    "代表数据库中特定的表格"
   ]
  },
  {
   "cell_type": "markdown",
   "metadata": {},
   "source": [
    "在如上对应的类中，添加表名（建议小写）\n",
    "```python\n",
    "# 在Restaurant类中\n",
    "__tablename__ = 'restaurant'\n",
    "\n",
    "\n",
    "# 在MenuItem类中\n",
    "__tablename__ = 'menu_item'\n",
    "```"
   ]
  },
  {
   "cell_type": "markdown",
   "metadata": {},
   "source": [
    "#### Mapper映射器\n",
    "用于将表格中的列与代表它的类链接，比如\n",
    "```python\n",
    "String(250) # 创建一个长度最多为250的字符串\n",
    "Integer # 创建整型\n",
    "relationship(Class) # 该表与其他表之间的关系\n",
    "nullable = False # 是否允许有空值\n",
    "primary_key = True # 是否是主键\n",
    "ForeignKey('some_table.id') #与其他表中某列的外键关系\n",
    "```"
   ]
  },
  {
   "cell_type": "markdown",
   "metadata": {},
   "source": [
    "在刚才创建的表格中，分别添加上列：\n",
    "- 餐厅表：\n",
    "    - 餐厅名称\n",
    "    - 餐厅id（主键）\n",
    "- 菜单表：\n",
    "    - 菜单名称\n",
    "    - 菜单id\n",
    "    - 菜品名称\n",
    "    - 菜品描述\n",
    "    - 菜品价格\n",
    "    - 餐厅id\n",
    "    "
   ]
  },
  {
   "cell_type": "markdown",
   "metadata": {},
   "source": [
    "```python\n",
    "# 在Restaurant类中\n",
    "name = Column(String(80),nullable=False)# 餐厅名称，字符类型，不允许为空\n",
    "id = Column(Integer,primary_key=True)\n",
    "    \n",
    "\n",
    "\n",
    "# 在MenuItem类中\n",
    "name = Column(String(80),nullable=False)\n",
    "id = Column(Integer,primary_key=True)\n",
    "course = Column(String(250))\n",
    "description = Column(String(250))\n",
    "price = Column(String(8))\n",
    "restaurant_id = Column(Integer,ForeignKey('restaurant.id'))\n",
    "restaurant = relationship(Restaurant)\n",
    "```"
   ]
  },
  {
   "cell_type": "markdown",
   "metadata": {},
   "source": [
    "#### 合并所有代码"
   ]
  },
  {
   "cell_type": "markdown",
   "metadata": {},
   "source": [
    "将如上代码合并，代码架构可以如下所示：\n",
    "![DT4MOP.png](https://s3.ax1x.com/2020/12/03/DT4MOP.png)"
   ]
  },
  {
   "cell_type": "code",
   "execution_count": 3,
   "metadata": {},
   "outputs": [],
   "source": [
    "import os\n",
    "import sys\n",
    "from sqlalchemy import Column, ForeignKey, Integer, String\n",
    "from sqlalchemy.ext.declarative import declarative_base\n",
    "from sqlalchemy.orm import relationship\n",
    "from sqlalchemy import create_engine\n",
    "\n",
    "Base = declarative_base()\n",
    "\n",
    "\n",
    "class Restaurant(Base):\n",
    "    __tablename__ = 'restaurant'\n",
    "\n",
    "    id = Column(Integer, primary_key=True)\n",
    "    name = Column(String(250), nullable=False)\n",
    "\n",
    "\n",
    "class MenuItem(Base):\n",
    "    __tablename__ = 'menu_item'\n",
    "\n",
    "    name = Column(String(80), nullable=False)\n",
    "    id = Column(Integer, primary_key=True)\n",
    "    description = Column(String(250))\n",
    "    price = Column(String(8))\n",
    "    course = Column(String(250))\n",
    "    restaurant_id = Column(Integer, ForeignKey('restaurant.id'))\n",
    "    restaurant = relationship(Restaurant)\n",
    "\n",
    "\n",
    "engine = create_engine('sqlite:///restaurantmenu.db')\n",
    "# 创建\n",
    "Base.metadata.create_all(engine)"
   ]
  },
  {
   "cell_type": "markdown",
   "metadata": {},
   "source": [
    "### CRUD-CREATE"
   ]
  },
  {
   "cell_type": "markdown",
   "metadata": {},
   "source": [
    "现在我们已经有了一个空的数据库，现在创建一些数据"
   ]
  },
  {
   "cell_type": "code",
   "execution_count": 5,
   "metadata": {},
   "outputs": [],
   "source": [
    "from sqlalchemy import create_engine\n",
    "from sqlalchemy.orm import sessionmaker\n",
    "from database_setup import Base, Restaurant, MenuItem"
   ]
  },
  {
   "cell_type": "code",
   "execution_count": 6,
   "metadata": {},
   "outputs": [],
   "source": [
    "# 链接数据库\n",
    "engine = create_engine('sqlite:///restaurantmenu.db')"
   ]
  },
  {
   "cell_type": "code",
   "execution_count": 7,
   "metadata": {},
   "outputs": [],
   "source": [
    "# 用bind将engine与Base绑定在一起\n",
    "Base.metadata.bind = engine"
   ]
  },
  {
   "cell_type": "code",
   "execution_count": 9,
   "metadata": {},
   "outputs": [],
   "source": [
    "# 创建一个session，与数据库进行会话\n",
    "DBsession = sessionmaker(bind=engine)\n",
    "# 实例化session\n",
    "# 我们可以使用session进行CRUD操作，但之后需要使用commit进行确认\n",
    "session = DBsession()"
   ]
  },
  {
   "cell_type": "markdown",
   "metadata": {},
   "source": [
    "添加数据时，可以按照如下模板：\n",
    "```python \n",
    "newEntry = ClassName(property=\"value\",...)\n",
    "session.add(newEntry)\n",
    "session.commit()\n",
    "```"
   ]
  },
  {
   "cell_type": "code",
   "execution_count": 10,
   "metadata": {},
   "outputs": [],
   "source": [
    "# 添加餐厅\n",
    "myFirstRestaurant = Restaurant(name=\"Pizza Palace\")\n",
    "session.add(myFirstRestaurant)\n",
    "session.commit()"
   ]
  },
  {
   "cell_type": "code",
   "execution_count": 11,
   "metadata": {},
   "outputs": [
    {
     "data": {
      "text/plain": [
       "[<database_setup.Restaurant at 0x8289198>]"
      ]
     },
     "execution_count": 11,
     "metadata": {},
     "output_type": "execute_result"
    }
   ],
   "source": [
    "# 查看是否添加成功\n",
    "session.query(Restaurant).all()"
   ]
  },
  {
   "cell_type": "markdown",
   "metadata": {},
   "source": [
    "可以发现，确实有数据存在内存的某处了。至于如何筛选，我们后面再了解。"
   ]
  },
  {
   "cell_type": "code",
   "execution_count": 12,
   "metadata": {},
   "outputs": [],
   "source": [
    "# 添加菜单\n",
    "cheesepizza = MenuItem(name=\"Cheese Pizza\", description=\"Made by Franchise\",\n",
    "                      course=\"Entree\",price=\"$8.99\",restaurant=myFirstRestaurant)\n",
    "session.add(cheesepizza)\n",
    "session.commit()"
   ]
  },
  {
   "cell_type": "code",
   "execution_count": 13,
   "metadata": {},
   "outputs": [
    {
     "data": {
      "text/plain": [
       "[<database_setup.MenuItem at 0x8398518>]"
      ]
     },
     "execution_count": 13,
     "metadata": {},
     "output_type": "execute_result"
    }
   ],
   "source": [
    "# 查看是否添加成功\n",
    "session.query(MenuItem).all()"
   ]
  },
  {
   "cell_type": "markdown",
   "metadata": {},
   "source": [
    "### CRUD-READ"
   ]
  },
  {
   "cell_type": "code",
   "execution_count": 14,
   "metadata": {},
   "outputs": [],
   "source": [
    "# 查看第一条\n",
    "firstResult = session.query(Restaurant).first()"
   ]
  },
  {
   "cell_type": "code",
   "execution_count": 15,
   "metadata": {},
   "outputs": [
    {
     "data": {
      "text/plain": [
       "'Pizza Palace'"
      ]
     },
     "execution_count": 15,
     "metadata": {},
     "output_type": "execute_result"
    }
   ],
   "source": [
    "# 使用类调用的方式去查看\n",
    "firstResult.name"
   ]
  },
  {
   "cell_type": "markdown",
   "metadata": {},
   "source": [
    "当有多条时，只需要使用for循环配合就可以，如：\n",
    "```python\n",
    "allResult = session.query(Restaurant).all()\n",
    "for item in allResult:\n",
    "    print(item.name)\n",
    "```"
   ]
  },
  {
   "cell_type": "markdown",
   "metadata": {},
   "source": [
    "### CRUD-QUERY（查询）"
   ]
  },
  {
   "cell_type": "markdown",
   "metadata": {},
   "source": [
    "我们还需要涉及到一些条件筛选，就像在SQL中做的那样。"
   ]
  },
  {
   "cell_type": "code",
   "execution_count": 16,
   "metadata": {},
   "outputs": [],
   "source": [
    "# 首先，我们需要使用query创建一个query对象\n",
    "q = session.query(Restaurant)"
   ]
  },
  {
   "cell_type": "markdown",
   "metadata": {},
   "source": [
    "当然，也可以针对某几列，如：\n",
    "```python\n",
    "q = session.query(MenuItem.name,MenuItem.description)\n",
    "```"
   ]
  },
  {
   "cell_type": "markdown",
   "metadata": {},
   "source": [
    "#### filter"
   ]
  },
  {
   "cell_type": "markdown",
   "metadata": {},
   "source": [
    "- 方案A：使用Pythonic的方式"
   ]
  },
  {
   "cell_type": "markdown",
   "metadata": {},
   "source": [
    "**算术运算符**：\n",
    "\n",
    "```python\n",
    "q.filter(User.name == 'ed') # !=不等于；>大于；<小于等等\n",
    "```\n"
   ]
  },
  {
   "cell_type": "markdown",
   "metadata": {},
   "source": [
    "**成员运算符：**\n",
    "```python\n",
    "# IN\n",
    "q.filter(User.name.in_(['a','b','v']))\n",
    "# NOT IN\n",
    "q.filter(~User.name.in_(['a','b','v']))\n",
    "```"
   ]
  },
  {
   "cell_type": "markdown",
   "metadata": {},
   "source": [
    "**模糊筛选：**\n",
    "```python\n",
    "q.filter(User.name.like('%ed%'))\n",
    "```"
   ]
  },
  {
   "cell_type": "markdown",
   "metadata": {},
   "source": [
    "**NULL筛选**\n",
    "```\n",
    "# IS NULL\n",
    "query.filter(User.name == None)\n",
    "# 或者\n",
    "query.filter(User.name.is_(None))\n",
    "\n",
    "# NOT NULL\n",
    "query.filter(User.name != None)\n",
    "# 或者\n",
    "query.filter(User.name.isnot(None))\n",
    "```"
   ]
  },
  {
   "cell_type": "markdown",
   "metadata": {},
   "source": [
    "**多条件逻辑运算符**\n",
    "```python\n",
    "# 与\n",
    "# 方法1\n",
    "from sqlalchemy import and_\n",
    "query.filter(and_(User.name == 'ed', User.fullname == 'Ed Jones'))\n",
    "\n",
    "# 方法2\n",
    "query.filter(User.name == 'ed', User.fullname == 'Ed Jones')\n",
    "\n",
    "# 方法3\n",
    "query.filter(User.name == 'ed').filter(User.fullname == 'Ed Jones')\n",
    "```\n",
    "\n",
    "```python\n",
    "# 或\n",
    "from sqlalchemy import or_\n",
    "query.filter(or_(User.name == 'ed', User.name == 'wendy'))\n",
    "```\n",
    "\n",
    "```python\n",
    "# 非\n",
    "q.filter(~User.name.in_(['a','b','v']))\n",
    "```"
   ]
  },
  {
   "cell_type": "markdown",
   "metadata": {},
   "source": [
    "- 方案B：使用SQL原生语句"
   ]
  },
  {
   "cell_type": "markdown",
   "metadata": {},
   "source": [
    "```python\n",
    "from sqlalchemy import text\n",
    "q.filter(text(\"id<224\"))\n",
    "# 或者\n",
    "q.from_statement(text(\"SELECT * FROM users where name=:name\")).params(name='ed')\n",
    "```\n"
   ]
  },
  {
   "cell_type": "markdown",
   "metadata": {},
   "source": [
    "#### 聚合，排序，联合表"
   ]
  },
  {
   "cell_type": "markdown",
   "metadata": {},
   "source": [
    "**聚合**\n",
    "```SQL\n",
    "SELECT school, COUNT(*) AS c \n",
    "FROM persons \n",
    "WHERE gender=\"male\" \n",
    "GROUP BY age \n",
    "HAVING c >1\n",
    "```\n",
    "等价于\n",
    "```python\n",
    "from sqlalchemy import func\n",
    "# label用于别名，与SQL代码中的AS一致\n",
    "# 对于其他的聚合计算函数，如SUM，AVG等分别对应于\n",
    "nums = func.count('*').label('c')\n",
    "\n",
    "results = sessin.query( Person.school, nums ).filter(\n",
    "    Person.gender=='male'\n",
    ").group_by(\n",
    "    Person.age\n",
    ").having(\n",
    "    nums > 10\n",
    ")\n",
    "```"
   ]
  },
  {
   "cell_type": "markdown",
   "metadata": {},
   "source": [
    "**排序**\n",
    "```python\n",
    "q.order_by(User.create_time.desc())\n",
    "# 或者\n",
    "from sqlalchemy import desc\n",
    "q.order_by(desc(Usser_ID))\n",
    "# 或者直接在定义数据类（Class）的时候，添加上默认排序方式，如\n",
    "class User(Base):　　\n",
    "　　__tablename__ = \"user\"　　\n",
    "　　id = Column(Integer , primary_key=True , autoincrement=True)　　\n",
    "　　name = Column(String(50) , nullable=False)　　\n",
    "　　create_time = Column(DateTime , nullable=False , default=datetime.now)\n",
    "　　\n",
    "　　__mapper_args__ = {　　\n",
    "　　\"order_by\":create_time.desc()　　\n",
    "　　}　　\n",
    "\n",
    "# 这样，所有的筛选都会按照create_time的倒序给出结果\n",
    "\n",
    "```\n"
   ]
  },
  {
   "cell_type": "markdown",
   "metadata": {},
   "source": [
    "**多表联合**\n",
    "```python\n",
    "# User与Address为表\n",
    "session.query(User, Address).\\\n",
    "    filter(User.id==Address.user_id).\\\n",
    "    filter(Address.email_address=='jack@google.com')\n",
    "# 等价于\n",
    "# 此方法需要在定义数据库时，设定好外键\n",
    "session.query(User).join(Address).\\\n",
    "    filter(Address.email_address=='jack@google.com')\n",
    "# 如果没有设置好外键，需要指定关键列\n",
    "session.query(User).\\\n",
    "    join(Address, User.id==Address.user_id).\\\n",
    "    filter(Address.email_address=='jack@google.com')\n",
    "# 如上的join默认为inner-join\n",
    "# outerjoin的话直接使用函数outerjoin即可，不过这里都是left outerjoin\n",
    "# 如果想使用full outerjoin的话，只需要创建两个left outerjoin，然后再合并即可，如下所示：\n",
    "q1 = (db.session.query(\n",
    "        tb1.user_id.label('u_id'),\n",
    "        func.count(tb1.id).label('tb1_c')\n",
    "    )\n",
    "    .group_by(tb1.user_id)\n",
    ").cte('q1')\n",
    "\n",
    "q2 = (db.session.query(\n",
    "        tb2.user_id.label('u_id'),\n",
    "        func.count(tb2.id).label('tb2_c')\n",
    "    )\n",
    "    .group_by(tb2.user_id)\n",
    ").cte('q2')\n",
    "\n",
    "result = db.session.query(\n",
    "    func.coalesce(q1.u_id, q2.u_id).label('u_id'),\n",
    "    q1.tb1_c,\n",
    "    q2.tb2_c\n",
    ").join(\n",
    "    q2,\n",
    "    q1.u_id == q2.u_id,\n",
    "    full=True\n",
    ")\n",
    "```"
   ]
  },
  {
   "cell_type": "markdown",
   "metadata": {},
   "source": [
    "更多筛选可以去这里查询：[SQLAlchemy-Query](https://www.osgeo.cn/sqlalchemy/orm/query.html)"
   ]
  },
  {
   "cell_type": "markdown",
   "metadata": {},
   "source": [
    "### CRUD-UPDATE"
   ]
  },
  {
   "cell_type": "markdown",
   "metadata": {},
   "source": [
    "```python\n",
    "# 先筛选对应的数据，并用one返回\n",
    "need_update = session.query(MenuItem).filter(id=8).one()\n",
    "# 更新某数据\n",
    "need_update.price = \"$2.99\"\n",
    "session.add(need_update)\n",
    "session.commit()\n",
    "```\n"
   ]
  },
  {
   "cell_type": "markdown",
   "metadata": {},
   "source": [
    "### CRUD-DELETE"
   ]
  },
  {
   "cell_type": "markdown",
   "metadata": {},
   "source": [
    "```python\n",
    "# 先筛选对应的数据\n",
    "need_delete = session.query(MenuItem).filter(id=8).one()\n",
    "# 删除\n",
    "session.delete(need_delete)\n",
    "session.commit()\n",
    "```"
   ]
  },
  {
   "cell_type": "markdown",
   "metadata": {},
   "source": [
    "## 搭建web服务 "
   ]
  },
  {
   "cell_type": "markdown",
   "metadata": {},
   "source": [
    "\n",
    "Flask可以提供便捷的web服务框架。"
   ]
  },
  {
   "cell_type": "markdown",
   "metadata": {},
   "source": [
    "### Hello world\n",
    "\n"
   ]
  },
  {
   "cell_type": "markdown",
   "metadata": {},
   "source": [
    "**Hello world!**\n",
    "\n",
    "`project.py`\n",
    "```python\n",
    "from flask import Flask\n",
    "\n",
    "# 实例化flask\n",
    "app = Flask(__name__)\n",
    "\n",
    "# @表示装饰器（decorator），可以将我们定义的函数Helloworld包裹在app.route函数中\n",
    "# 这里实现的就是定义 访问括号内的url地址，即可执行定义的函数Helloworld\n",
    "@app.route('/')\n",
    "@app.route('/hello')\n",
    "def Helloworld():\n",
    "    return \"Hello World!\"\n",
    "\n",
    "# 启动服务\n",
    "if __name__==\"__main__\":\n",
    "    app.debug = True\n",
    "    # 定义host地址与port端口\n",
    "    app.run(host=\"0.0.0.0\",port=5000)\n",
    "    \n",
    "```"
   ]
  },
  {
   "cell_type": "markdown",
   "metadata": {},
   "source": [
    "### 添加数据库 "
   ]
  },
  {
   "cell_type": "markdown",
   "metadata": {},
   "source": [
    "只需要按照之前数据库的添加方式，进行处理。\n",
    "```python\n",
    "from flask import Flask\n",
    "\n",
    "from sqlalchemy import create_engine\n",
    "from sqlalchemy.orm import sessionmaker\n",
    "from database_setup import Base, Restaurant, MenuItem\n",
    "# 实例化flask\n",
    "app = Flask(__name__)\n",
    "\n",
    "# 链接数据库\n",
    "engine = create_engine('sqlite:///restaurantmenu.db')\n",
    "# 用bind将engine与Base绑定在一起\n",
    "Base.metadata.bind = engine\n",
    "# 创建一个session，与数据库进行会话\n",
    "DBsession = sessionmaker(bind=engine)\n",
    "# 实例化session\n",
    "session = DBsession()\n",
    "\n",
    "@app.route('/')\n",
    "@app.route('/hello')\n",
    "def Helloworld():\n",
    "    # 查询Restaurant中的第一家餐厅\n",
    "    restaurant = session.query(Restaurant).first()\n",
    "    items = session.query(MenuItem).filter_by(restaurant_id=restaurant.id)\n",
    "    output = ''\n",
    "    for i in items:\n",
    "        output += i.name\n",
    "        output += '<br>'\n",
    "    return output\n",
    "\n",
    "# 启动服务\n",
    "if __name__==\"__main__\":\n",
    "    app.debug = True\n",
    "    # 定义host地址与port端口\n",
    "    app.run(host=\"0.0.0.0\",port=5000)\n",
    "```"
   ]
  },
  {
   "cell_type": "markdown",
   "metadata": {},
   "source": [
    "### 在route中使用变量"
   ]
  },
  {
   "cell_type": "markdown",
   "metadata": {},
   "source": [
    "如上我们筛选出了第一家餐厅的菜单，那如何实现对任意一家餐厅菜单的查询呢？\n",
    "\n",
    "我们可以在route中使用变量，模板如：`path/<type:variable_name>/path`\n",
    "\n",
    "如，我们可以把如上代码修改为：\n",
    "```python\n",
    "@app.route('/')\n",
    "# 修改route，使用int变量restaurant_id\n",
    "@app.route('/restaurant/<int:restaurant_id>/')\n",
    "# 将restaurant_id作为函数的参数\n",
    "def restaurantMenu(restaurant_id):\n",
    "    # 查询Restaurant中restaurant_id对应的餐厅\n",
    "    restaurant = session.query(Restaurant).filter_by(id=restaurant_id).first()\n",
    "    items = session.query(MenuItem).filter_by(restaurant_id=restaurant_id)\n",
    "    output = restaurant.name + '<br>'\n",
    "    for i in items:\n",
    "        output += i.name\n",
    "        output += '<br>'\n",
    "    return output\n",
    "```"
   ]
  },
  {
   "cell_type": "markdown",
   "metadata": {},
   "source": [
    "这时候，在浏览器中访问`localhost:5000/restaurant/3/`即可查询到restaurant_id为3的餐厅信息。"
   ]
  },
  {
   "cell_type": "markdown",
   "metadata": {},
   "source": [
    "### 使用模板"
   ]
  },
  {
   "cell_type": "markdown",
   "metadata": {},
   "source": [
    "前面我们只是将结果进行了简单的输出，那当网页复杂时，就需要使用模板了。\n",
    "\n",
    "在Flask中，可以使用如下代码调用模板：\n",
    "`return render_template(templateName.html,variables)`"
   ]
  },
  {
   "cell_type": "markdown",
   "metadata": {},
   "source": [
    "- 1. 创建`templates`文件夹：`mkdir templates`\n",
    "- 2. 在该文件夹中，创建模板：`cd templates; vscode menu.html`\n",
    "- 3. 在vscode打开的文件中，写入：\n",
    "```HTML\n",
    "<html>\n",
    "    <body>\n",
    "        <h1>{{ restaurant.name }} </h1>\n",
    "        {% for i in items %}\n",
    "        {{ i.name }}\n",
    "        <br>\n",
    "        {% endfor %}\n",
    "    </body>\n",
    "</html>\n",
    "```\n",
    "> 在这里涉及的语法，还有如`{% if state %} {% endif %}`等，可以在这里查看更多：[模板设计者文档](http://docs.jinkan.org/docs/jinja2/templates.html)\n",
    "\n",
    "- 4. 修改python代码：\n",
    "\n",
    "    ```python\n",
    "    from flask import render_template\n",
    "\n",
    "    @app.route('/')\n",
    "    # 修改route，使用int变量restaurant_id\n",
    "    @app.route('/restaurant/<int:restaurant_id>/')\n",
    "    # 将restaurant_id作为函数的参数\n",
    "    def restaurantMenu(restaurant_id):\n",
    "        # 查询Restaurant中restaurant_id对应的餐厅\n",
    "        restaurant = session.query(Restaurant).filter_by(id=restaurant_id).first()\n",
    "        items = session.query(MenuItem).filter_by(restaurant_id=restaurant_id)\n",
    "        return render_template('menu.html',\n",
    "                                restaurant=restaurant,\n",
    "                                items=items)\n",
    "    ```"
   ]
  },
  {
   "cell_type": "markdown",
   "metadata": {},
   "source": [
    "### 添加超链接"
   ]
  },
  {
   "cell_type": "markdown",
   "metadata": {},
   "source": [
    "在网页中需要设计跳转，这时候就需要使用`url_for()`来帮助，基础用法为：\n",
    "\n",
    "`url_for(functionName,arg_1,arg_2,...)`"
   ]
  },
  {
   "cell_type": "markdown",
   "metadata": {},
   "source": [
    "如，我们可以在如上网页中，增加“编辑”与“删除”链接：\n",
    "```html\n",
    "<html>\n",
    "<body>\n",
    "   <h1>{{ restaurant.name }} </h1>\n",
    "   {% for i in items %}\n",
    "   {{ i.name }}\n",
    "   <br>\n",
    "    <a href=\"{{url_for('editMenuItem',restaurant_id=restaurant.id,menu_id=i.id)}}\" > Edit </a>\n",
    "    <br>\n",
    "    <a href=\"{{url_for('deleteMenuItem',restaurant_id=restaurant.id,menu_id=i.id)}}\" > Delete </a>\n",
    "    <br>\n",
    "   {% endfor %}\n",
    "</body>\n",
    "</html>\n",
    "```"
   ]
  },
  {
   "cell_type": "markdown",
   "metadata": {},
   "source": [
    "在Python中，添加对应函数：\n",
    "```python\n",
    "\n",
    "@app.route('/restaurant/<int:restaurant_id>/<int:menu_id>/edit')\n",
    "def editMenuItem(restaurant_id,menu_id):\n",
    "   return \"page to edit.\"\n",
    "\n",
    "@app.route('/restaurant/<int:restaurant_id>/<int:menu_id>/delete')\n",
    "def deleteMenuItem(restaurant_id,menu_id):\n",
    "   return \"page to delete.\"\n",
    "```"
   ]
  },
  {
   "cell_type": "markdown",
   "metadata": {},
   "source": [
    "### 表单与重定向"
   ]
  },
  {
   "cell_type": "markdown",
   "metadata": {},
   "source": [
    "需要用户给餐厅添加新的表单，并储存至数据库中。"
   ]
  },
  {
   "cell_type": "markdown",
   "metadata": {},
   "source": [
    "首先，创建一个表单填写的html`newmenuitem.html`：\n",
    "```html\n",
    "<html>\n",
    "    <body>\n",
    "        <h1> New Menu Item </h1>\n",
    "        <form action=\"{{url_for('newMenuItem',restaurant_id=restaurant_id)}}\" method='post'>\n",
    "            <p>Name:</p>\n",
    "            <input type='text' size='30' name='Name'>\n",
    "            <input type='submit' value='Create'>\n",
    "        </form>\n",
    "    </body>\n",
    "</html>\n",
    "```"
   ]
  },
  {
   "cell_type": "markdown",
   "metadata": {},
   "source": [
    "然后，在`menu.html`中，添加转到`newmenuitem.html`的超链接：\n",
    "```html\n",
    "<html>\n",
    "<body>\n",
    "   <h1>{{ restaurant.name }} </h1>\n",
    "   <a href = \"{{url_for('newMenuItem', restaurant_id = restaurant.id) }}\">Create New Item</a>\n",
    "   {% for i in items %}\n",
    "   {{ i.name }}\n",
    "   <br>\n",
    "    <a href=\"{{url_for('editMenuItem',restaurant_id=restaurant.id,menu_id=i.id)}}\" > Edit </a>\n",
    "    <br>\n",
    "    <a href=\"{{url_for('deleteMenuItem',restaurant_id=restaurant.id,menu_id=i.id)}}\" > Delete </a>\n",
    "    <br>\n",
    "   {% endfor %}\n",
    "</body>\n",
    "</html>\n",
    "```"
   ]
  },
  {
   "cell_type": "markdown",
   "metadata": {},
   "source": [
    "在`project.py`中，添加对应函数：\n",
    "```python \n",
    "from flask import request, redirect\n",
    "# 添加上post请求\n",
    "@app.route('/restaurants/<int:restaurant_id>/new',methods=['GET','POST'])\n",
    "def newMenuItem(restaurant_id):\n",
    "    if request.method == 'POST':\n",
    "        newItem = MenuItem(name=request.form['name'],restaurant_id=restaurant_id)\n",
    "        session.add(newItem)\n",
    "        session.commit()\n",
    "        # 添加成功后，重定向为最开始的查询页面\n",
    "        return redirect(url_for('restaurantMenu',restaurant_id=restaurant_id))\n",
    "    else:\n",
    "        return render_template('newmenuitem.html',restaurant_id=restaurant_id)\n",
    "```"
   ]
  },
  {
   "cell_type": "markdown",
   "metadata": {},
   "source": [
    "### 交互提示：flash\n",
    "\n",
    "一个优秀的web app，应该是具有较好的用户交互体验的，也就是说，在用户执行一些操作之后，给他一些反馈，在flask中我们可以用flash来实现。"
   ]
  },
  {
   "cell_type": "markdown",
   "metadata": {},
   "source": [
    "其用法为：\n",
    "```python\n",
    "# 在python脚本中设置要显示的消息\n",
    "flask('message')\n",
    "# 由于flash是基于session的，所以，在启动app时还需要添加上密钥\n",
    "if __name__ == \"__main__\":\n",
    "    app.secret_key = 'super_secret_key'\n",
    "    ...\n",
    "```\n",
    "```html\n",
    "<!--  在HTML的合适位置使用如下代码显示message信息 -->\n",
    "get_flashed_messages()\n",
    "```"
   ]
  },
  {
   "cell_type": "markdown",
   "metadata": {},
   "source": [
    "比如说，我们想在用户添加新菜单之后，进行提示，那么可以：\n",
    "\n",
    "\n",
    "在`project.py`中，修改对应函数：\n",
    "```python \n",
    "# 导入flash\n",
    "from flask import flash\n",
    "# 添加上post请求\n",
    "@app.route('/restaurants/<int:restaurant_id>/new',methods=['GET','POST'])\n",
    "def newMenuItem(restaurant_id):\n",
    "    if request.method == 'POST':\n",
    "        newItem = MenuItem(name=request.form['name'],restaurant_id=restaurant_id)\n",
    "        session.add(newItem)\n",
    "        session.commit()\n",
    "        # 添加成功后，输出flash提醒\n",
    "        flash(\"new menu item created!\")\n",
    "        # 添加成功后，重定向为最开始的查询页面\n",
    "        return redirect(url_for('restaurantMenu',restaurant_id=restaurant_id))\n",
    "    else:\n",
    "        return render_template('newmenuitem.html',restaurant_id=restaurant_id)\n",
    "```"
   ]
  },
  {
   "cell_type": "markdown",
   "metadata": {},
   "source": [
    "修改`menu.html`，在合适位置添加提醒：\n",
    "```html\n",
    "<html>\n",
    "<body>\n",
    "   <h1>{{ restaurant.name }} </h1>\n",
    "    <a href = \"{{url_for('newMenuItem', restaurant_id = restaurant.id) }}\">Create New Item</a>\n",
    "    <!--MESSAGE FLASHING EXAMPLE -->\n",
    "    {% with messages = get_flashed_messages() %}\n",
    "    {% if messages %}\n",
    "        <ul>\n",
    "    {% for message in messages %}\n",
    "      <li><strong>{{message}}</strong></li>\n",
    "      {% endfor %}\n",
    "    </ul>\n",
    "    {% endif %}\n",
    "    {% endwith %}\n",
    "\n",
    "   \n",
    "   {% for i in items %}\n",
    "   {{ i.name }}\n",
    "   <br>\n",
    "    <a href=\"{{url_for('editMenuItem',restaurant_id=restaurant.id,menu_id=i.id)}}\" > Edit </a>\n",
    "    <br>\n",
    "    <a href=\"{{url_for('deleteMenuItem',restaurant_id=restaurant.id,menu_id=i.id)}}\" > Delete </a>\n",
    "    <br>\n",
    "   {% endfor %}\n",
    "</body>\n",
    "</html>\n",
    "```"
   ]
  },
  {
   "cell_type": "markdown",
   "metadata": {},
   "source": [
    "### 添加样式"
   ]
  },
  {
   "cell_type": "markdown",
   "metadata": {},
   "source": [
    "现在我们的网页基本逻辑已经没问题了，但就是很丑，这时候就需要添加上CSS样式来美化。"
   ]
  },
  {
   "cell_type": "markdown",
   "metadata": {},
   "source": [
    "- 1. 先创建`static`文件夹，`mkdir static`\n",
    "- 2. 在文件夹中，创建css文件，`cd static; vscode style.css`\n",
    "- 3. 在html模板文件中，添加上指向该css的url：\n",
    "```html\n",
    "<link rel='stylesheet' href=\"{{url_for('static',filename='style.css')}}\">\n",
    "```"
   ]
  },
  {
   "cell_type": "markdown",
   "metadata": {},
   "source": [
    "### 获取json格式的数据"
   ]
  },
  {
   "cell_type": "markdown",
   "metadata": {},
   "source": [
    "获取json格式的数据，更方便我们后续的处理。"
   ]
  },
  {
   "cell_type": "markdown",
   "metadata": {},
   "source": [
    "python代码如下：\n",
    "```python \n",
    "from flask import jsonify\n",
    "\n",
    "# ADD JSON ENDPOINT HERE\n",
    "@app.route('/restaurants/<int:restaurant_id>/menu/<int:menu_id>/JSON')\n",
    "def menuItemJSON(restaurant_id, menu_id):\n",
    "    menuItem = session.query(MenuItem).filter_by(id=menu_id).one()\n",
    "    # 在执行jsonify之前，需要先对数据进行『序列化serialize』处理\n",
    "    return jsonify(MenuItem=menuItem.serialize)\n",
    "```"
   ]
  },
  {
   "cell_type": "markdown",
   "metadata": {},
   "source": [
    "## 迭代开发"
   ]
  },
  {
   "cell_type": "markdown",
   "metadata": {},
   "source": [
    "迭代开发，是指，我们先从构建简单的、基本的模型开始，然后不断通过与同事之间的沟通，增加需求，增加功能&调试，最终完善的过程。"
   ]
  },
  {
   "cell_type": "markdown",
   "metadata": {},
   "source": [
    "基本套路为：\n",
    "- Mock-ups先创建各个页面\n",
    "- Routing 链接各个页面\n",
    "- Templates&Forms 添加模板与表单\n",
    "- CRUD functionality 实现数据库的CRUD功能\n",
    "- API Endpoints 添加API访问接口（如json数据等）\n",
    "- Styling&Message Flashing 美化样式&优化交互"
   ]
  },
  {
   "cell_type": "markdown",
   "metadata": {},
   "source": [
    "### Mock-ups"
   ]
  },
  {
   "cell_type": "markdown",
   "metadata": {},
   "source": [
    "这部分可以直接用画板、纸笔完成，我们需要构思产品需要哪些功能，不同功能对应那些页面，彼此之间的连接方式等等。"
   ]
  },
  {
   "cell_type": "markdown",
   "metadata": {},
   "source": [
    "<img src=\"https://s3.ax1x.com/2020/12/04/DbV4hV.md.png\" alt=\"DbV4hV.png\" border=\"0\" width=\"450px\"/>"
   ]
  },
  {
   "cell_type": "markdown",
   "metadata": {},
   "source": [
    "设计对应的url：\n",
    "<img src=\"https://s3.ax1x.com/2020/12/04/DbZs4x.md.png\" alt=\"DbZs4x.png\" border=\"0\" width=\"450px\"/>"
   ]
  },
  {
   "cell_type": "markdown",
   "metadata": {},
   "source": [
    "构思网页的显示形式，并跟同事（需求方）讨论：\n",
    "<img src=\"https://s3.ax1x.com/2020/12/04/DbZo5t.md.png\" alt=\"DbZo5t.png\" border=\"0\" width=\"450px\"/>"
   ]
  },
  {
   "cell_type": "markdown",
   "metadata": {},
   "source": [
    "### Routing"
   ]
  },
  {
   "cell_type": "markdown",
   "metadata": {},
   "source": [
    "接着，我们依据前面设计好的url：\n",
    "- 编写python脚本，添加对应的函数\n",
    "- 在对应函数中，使用return返回提示信息（这里就是占个坑，方便测试）\n",
    "- 测试如上各页面之间的访问"
   ]
  },
  {
   "cell_type": "markdown",
   "metadata": {},
   "source": [
    "<img src=\"https://s3.ax1x.com/2020/12/04/DbeS5q.md.png\" alt=\"DbeS5q.png\" border=\"0\" width=\"450px\"/>"
   ]
  },
  {
   "cell_type": "markdown",
   "metadata": {},
   "source": [
    "### Templates&Forms"
   ]
  },
  {
   "cell_type": "markdown",
   "metadata": {},
   "source": [
    "编写各个页面的模板，实现各页面中的功能，如表单提交等等，在这里，可以先在python脚本中使用虚拟测试数据。"
   ]
  },
  {
   "cell_type": "markdown",
   "metadata": {},
   "source": [
    "### CRUD functionality"
   ]
  },
  {
   "cell_type": "markdown",
   "metadata": {},
   "source": [
    "在这一步，我们将会针对网页中的CRUD需求，在python中创建CRUD对应的函数，这里经常会用到：\n",
    "- `url_for`\n",
    "- `redirect`\n",
    "- `GET&POST`"
   ]
  },
  {
   "cell_type": "markdown",
   "metadata": {},
   "source": [
    "<img src=\"https://s3.ax1x.com/2020/12/04/Dbm8pV.md.png\" alt=\"Dbm8pV.png\" border=\"0\" width=\"450px\"/>"
   ]
  },
  {
   "cell_type": "markdown",
   "metadata": {},
   "source": [
    "### API Endpoints"
   ]
  },
  {
   "cell_type": "markdown",
   "metadata": {},
   "source": [
    "根据产品中的数据，创建指向不同数据的API接口，如：\n",
    "<img src=\"https://s3.ax1x.com/2020/12/04/Dbma79.md.png\" alt=\"Dbma79.png\" border=\"0\" width=\"450px\"/>"
   ]
  },
  {
   "cell_type": "markdown",
   "metadata": {},
   "source": [
    "这里会经常用到：\n",
    "- `jsonify`\n",
    "- `serialize`"
   ]
  },
  {
   "cell_type": "markdown",
   "metadata": {},
   "source": [
    "### Styling&Message Flashing"
   ]
  },
  {
   "cell_type": "markdown",
   "metadata": {},
   "source": [
    "最后对网页进行美化，可以在`static`文件夹中，添加CSS、JS、图片等。\n",
    "\n",
    "然后使用`flash`用于操作完成提示。"
   ]
  },
  {
   "cell_type": "markdown",
   "metadata": {},
   "source": [
    "## 认证（Authentication）与 授权（Authorization ）"
   ]
  },
  {
   "cell_type": "markdown",
   "metadata": {},
   "source": [
    "认证（Authentication）是让系统确认你是谁，比如我们在访问Github时需要登录账户&密码。\n",
    "\n",
    "如何做好认证呢？\n",
    "- 使用强密码\n",
    "- 对数据进行加密\n",
    "- 客户端与服务端安全通信\n",
    "- 将密码储存至加密数据库中\n",
    "- 密码恢复功能\n",
    "- 双重身份验证\n",
    "- 添加防止中间人攻击保护"
   ]
  },
  {
   "cell_type": "markdown",
   "metadata": {},
   "source": [
    "但如上这些认证方式加密方法不同，位置也不同，所幸，除了我们自己设置认证之外，可以很方便的使用第三方认证，如：微信认证、支付宝认证等等。"
   ]
  },
  {
   "cell_type": "markdown",
   "metadata": {},
   "source": [
    "但是认证之后，并不代表我们可以访问用户在第三方平台上的所有数据，这需要用户进行**授权**。"
   ]
  },
  {
   "cell_type": "markdown",
   "metadata": {},
   "source": [
    "当然，一般情况下授权都发生在认证之后，但也有些时候，并不需要认证即可授权，比如：\n",
    "- 优惠券的使用，不需要认证，只需要你有优惠码，便可以使用这个权利；\n",
    "- 网盘的文件分享，不需要登陆，只需要文件分享链接，便可以下载该文件。"
   ]
  },
  {
   "cell_type": "markdown",
   "metadata": {},
   "source": [
    "常用的授权标准为**OAuth**"
   ]
  },
  {
   "cell_type": "code",
   "execution_count": null,
   "metadata": {},
   "outputs": [],
   "source": []
  },
  {
   "cell_type": "code",
   "execution_count": null,
   "metadata": {},
   "outputs": [],
   "source": []
  }
 ],
 "metadata": {
  "kernelspec": {
   "display_name": "Python 3",
   "language": "python",
   "name": "python3"
  },
  "language_info": {
   "codemirror_mode": {
    "name": "ipython",
    "version": 3
   },
   "file_extension": ".py",
   "mimetype": "text/x-python",
   "name": "python",
   "nbconvert_exporter": "python",
   "pygments_lexer": "ipython3",
   "version": "3.7.3"
  },
  "toc": {
   "base_numbering": 1,
   "nav_menu": {},
   "number_sections": true,
   "sideBar": true,
   "skip_h1_title": false,
   "title_cell": "Table of Contents",
   "title_sidebar": "Contents",
   "toc_cell": false,
   "toc_position": {
    "height": "calc(100% - 180px)",
    "left": "10px",
    "top": "150px",
    "width": "165px"
   },
   "toc_section_display": true,
   "toc_window_display": true
  }
 },
 "nbformat": 4,
 "nbformat_minor": 2
}
